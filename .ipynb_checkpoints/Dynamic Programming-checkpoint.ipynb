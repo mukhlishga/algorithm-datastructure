{
 "cells": [
  {
   "cell_type": "markdown",
   "metadata": {},
   "source": [
    "### Dynamic Programming: making algorithm more efficient by storing some intermediate results"
   ]
  },
  {
   "cell_type": "raw",
   "metadata": {},
   "source": [
    "Dynamic Programming is an algorithmic paradigm that solves a given complex problem by breaking it into subproblems and stores the results of subproblems to avoid computing the same results again.\n",
    "\n",
    "A problem can be solved by dynamic programming if:\n",
    "1. Overlapping Subproblems --> when solutions of the same subproblems are needed again and again\n",
    "2. Optimal Substructure --> if optimal solution of the problem can be obtained by using optimal solutions of its subproblems"
   ]
  },
  {
   "cell_type": "markdown",
   "metadata": {},
   "source": [
    "### Fibonacci"
   ]
  },
  {
   "cell_type": "raw",
   "metadata": {},
   "source": [
    "- Recursion --> recursive, not dynamic programming\n",
    "The complexity increases exponientially --> O(2^n)"
   ]
  },
  {
   "cell_type": "code",
   "execution_count": 1,
   "metadata": {},
   "outputs": [],
   "source": [
    "def fibonacci_1(n):\n",
    "    if n == 1 or n == 2:\n",
    "        result = 1\n",
    "    else:\n",
    "        result = fibonacci_1(n-1) + fibonacci_1(n-2)\n",
    "    return result"
   ]
  },
  {
   "cell_type": "code",
   "execution_count": 2,
   "metadata": {},
   "outputs": [
    {
     "name": "stdout",
     "output_type": "stream",
     "text": [
      "5\n",
      "6765\n",
      "9227465\n"
     ]
    }
   ],
   "source": [
    "print(fibonacci_1(5))\n",
    "print(fibonacci_1(20))\n",
    "print(fibonacci_1(35))"
   ]
  },
  {
   "cell_type": "raw",
   "metadata": {},
   "source": [
    "- Memoization (top-down) --> dynamic programming\n",
    "Make a memo (list) of the already computed values\n",
    "The complexity --> O(n)"
   ]
  },
  {
   "cell_type": "code",
   "execution_count": 3,
   "metadata": {},
   "outputs": [],
   "source": [
    "def fibonacci_2(n, memo):\n",
    "    if memo[n] is not None:\n",
    "        return memo[n]\n",
    "    if n == 1 or n == 2:\n",
    "        result = 1\n",
    "    else:\n",
    "        result = fibonacci_2(n-1, memo) + fibonacci_2(n-2, memo)\n",
    "    memo[n] = result\n",
    "    return result\n",
    "\n",
    "def fibonacci_memo(n):\n",
    "    memo = [None] * (n+1)\n",
    "    return fibonacci_2(n, memo)"
   ]
  },
  {
   "cell_type": "code",
   "execution_count": 4,
   "metadata": {},
   "outputs": [
    {
     "name": "stdout",
     "output_type": "stream",
     "text": [
      "5\n",
      "6765\n",
      "9227465\n"
     ]
    }
   ],
   "source": [
    "print(fibonacci_memo(5))\n",
    "print(fibonacci_memo(20))\n",
    "print(fibonacci_memo(35))"
   ]
  },
  {
   "cell_type": "raw",
   "metadata": {},
   "source": [
    "- Tabulation (Bottom-up) --> dynamic programming\n",
    "Make the memo list first, then print the memo at n-th element\n",
    "The complexity --> O(n)"
   ]
  },
  {
   "cell_type": "code",
   "execution_count": 5,
   "metadata": {},
   "outputs": [],
   "source": [
    "def fibonacci_3(n):\n",
    "    dp = [None] * (n+1)\n",
    "    dp[1] = 1\n",
    "    dp[2] = 1\n",
    "    for i in range(3, n+1):\n",
    "        dp[i] = dp[i-1] + dp[i-2]\n",
    "    return dp[n]"
   ]
  },
  {
   "cell_type": "code",
   "execution_count": 6,
   "metadata": {},
   "outputs": [
    {
     "name": "stdout",
     "output_type": "stream",
     "text": [
      "5\n",
      "6765\n",
      "9227465\n"
     ]
    }
   ],
   "source": [
    "print(fibonacci_3(5))\n",
    "print(fibonacci_3(20))\n",
    "print(fibonacci_3(35))"
   ]
  },
  {
   "cell_type": "markdown",
   "metadata": {},
   "source": [
    "### Factorial"
   ]
  },
  {
   "cell_type": "raw",
   "metadata": {},
   "source": [
    "recursively, not dynamic programming"
   ]
  },
  {
   "cell_type": "code",
   "execution_count": 7,
   "metadata": {},
   "outputs": [],
   "source": [
    "def factorial(n):\n",
    "    if n <= 1:\n",
    "        return 1\n",
    "    else:\n",
    "        return n*factorial(n-1)"
   ]
  },
  {
   "cell_type": "code",
   "execution_count": 8,
   "metadata": {},
   "outputs": [
    {
     "name": "stdout",
     "output_type": "stream",
     "text": [
      "1\n",
      "1\n",
      "2\n",
      "6\n",
      "24\n"
     ]
    }
   ],
   "source": [
    "print(factorial(0))\n",
    "print(factorial(1))\n",
    "print(factorial(2))\n",
    "print(factorial(3))\n",
    "print(factorial(4))"
   ]
  },
  {
   "cell_type": "raw",
   "metadata": {},
   "source": [
    "dynamic programming with tabulation method"
   ]
  },
  {
   "cell_type": "code",
   "execution_count": 9,
   "metadata": {},
   "outputs": [],
   "source": [
    "def factorial(n):\n",
    "    dp = [None] * (n+1)\n",
    "    dp[0] = 1\n",
    "    for i in range(1, n+1):\n",
    "        dp[i] = dp[i-1] * i\n",
    "    return dp[n]"
   ]
  },
  {
   "cell_type": "code",
   "execution_count": 10,
   "metadata": {},
   "outputs": [
    {
     "name": "stdout",
     "output_type": "stream",
     "text": [
      "1\n",
      "1\n",
      "2\n",
      "6\n",
      "24\n"
     ]
    }
   ],
   "source": [
    "print(factorial(0))\n",
    "print(factorial(1))\n",
    "print(factorial(2))\n",
    "print(factorial(3))\n",
    "print(factorial(4))"
   ]
  },
  {
   "cell_type": "raw",
   "metadata": {},
   "source": [
    "Dynamic programming with memoization:"
   ]
  },
  {
   "cell_type": "code",
   "execution_count": 11,
   "metadata": {},
   "outputs": [],
   "source": [
    "def factorial(n, memo):\n",
    "    if n == 0:\n",
    "        return 1\n",
    "    memo[n] = n * factorial(n-1, memo)\n",
    "    return memo[n]\n",
    "\n",
    "def factorial_memo(n):\n",
    "    memo = [None] * (n+1)\n",
    "    return factorial(n, memo)"
   ]
  },
  {
   "cell_type": "code",
   "execution_count": 12,
   "metadata": {},
   "outputs": [
    {
     "name": "stdout",
     "output_type": "stream",
     "text": [
      "1\n",
      "1\n",
      "2\n",
      "6\n",
      "24\n"
     ]
    }
   ],
   "source": [
    "print(factorial_memo(0))\n",
    "print(factorial_memo(1))\n",
    "print(factorial_memo(2))\n",
    "print(factorial_memo(3))\n",
    "print(factorial_memo(4))"
   ]
  },
  {
   "cell_type": "markdown",
   "metadata": {},
   "source": [
    "### Ways to sum to N using Natural Numbers up to K with repetitions allowed"
   ]
  },
  {
   "cell_type": "raw",
   "metadata": {},
   "source": [
    "Given two integers N and K, the task is to find the total number of ways of representing N as the sum of positive integers in the range [1, K], where each integer can be chosen multiple times."
   ]
  },
  {
   "cell_type": "raw",
   "metadata": {},
   "source": [
    "Naive approach: generate all possible combinations of integers over the range [1, K] and count combinations whose sum is N. "
   ]
  },
  {
   "cell_type": "code",
   "execution_count": 13,
   "metadata": {},
   "outputs": [
    {
     "name": "stdout",
     "output_type": "stream",
     "text": [
      "(0, 0, 0, 0, 0, 0, 0, 0)\n",
      "(0, 0, 0, 0, 0, 0, 0, 1)\n",
      "(0, 0, 0, 0, 0, 0, 0, 2)\n",
      "(0, 0, 0, 0, 0, 0, 1, 1)\n",
      "(0, 0, 0, 0, 0, 0, 1, 2)\n",
      "(0, 0, 0, 0, 0, 0, 2, 2)\n",
      "(0, 0, 0, 0, 0, 1, 1, 1)\n",
      "(0, 0, 0, 0, 0, 1, 1, 2)\n",
      "(0, 0, 0, 0, 0, 1, 2, 2)\n",
      "(0, 0, 0, 0, 0, 2, 2, 2)\n",
      "(0, 0, 0, 0, 1, 1, 1, 1)\n",
      "(0, 0, 0, 0, 1, 1, 1, 2)\n",
      "(0, 0, 0, 0, 1, 1, 2, 2)\n",
      "(0, 0, 0, 0, 1, 2, 2, 2)\n",
      "(0, 0, 0, 0, 2, 2, 2, 2) yes\n",
      "(0, 0, 0, 1, 1, 1, 1, 1)\n",
      "(0, 0, 0, 1, 1, 1, 1, 2)\n",
      "(0, 0, 0, 1, 1, 1, 2, 2)\n",
      "(0, 0, 0, 1, 1, 2, 2, 2) yes\n",
      "(0, 0, 0, 1, 2, 2, 2, 2)\n",
      "(0, 0, 0, 2, 2, 2, 2, 2)\n",
      "(0, 0, 1, 1, 1, 1, 1, 1)\n",
      "(0, 0, 1, 1, 1, 1, 1, 2)\n",
      "(0, 0, 1, 1, 1, 1, 2, 2) yes\n",
      "(0, 0, 1, 1, 1, 2, 2, 2)\n",
      "(0, 0, 1, 1, 2, 2, 2, 2)\n",
      "(0, 0, 1, 2, 2, 2, 2, 2)\n",
      "(0, 0, 2, 2, 2, 2, 2, 2)\n",
      "(0, 1, 1, 1, 1, 1, 1, 1)\n",
      "(0, 1, 1, 1, 1, 1, 1, 2) yes\n",
      "(0, 1, 1, 1, 1, 1, 2, 2)\n",
      "(0, 1, 1, 1, 1, 2, 2, 2)\n",
      "(0, 1, 1, 1, 2, 2, 2, 2)\n",
      "(0, 1, 1, 2, 2, 2, 2, 2)\n",
      "(0, 1, 2, 2, 2, 2, 2, 2)\n",
      "(0, 2, 2, 2, 2, 2, 2, 2)\n",
      "(1, 1, 1, 1, 1, 1, 1, 1) yes\n",
      "(1, 1, 1, 1, 1, 1, 1, 2)\n",
      "(1, 1, 1, 1, 1, 1, 2, 2)\n",
      "(1, 1, 1, 1, 1, 2, 2, 2)\n",
      "(1, 1, 1, 1, 2, 2, 2, 2)\n",
      "(1, 1, 1, 2, 2, 2, 2, 2)\n",
      "(1, 1, 2, 2, 2, 2, 2, 2)\n",
      "(1, 2, 2, 2, 2, 2, 2, 2)\n",
      "(2, 2, 2, 2, 2, 2, 2, 2)\n",
      "5\n"
     ]
    }
   ],
   "source": [
    "from itertools import combinations_with_replacement\n",
    "\n",
    "comb = combinations_with_replacement([0, 1, 2], 8)\n",
    "\n",
    "counter = 0\n",
    "\n",
    "for i in list(comb):\n",
    "    if sum(i) == 8:\n",
    "        counter += 1\n",
    "        print(i,'yes')\n",
    "    else:\n",
    "        print(i)\n",
    "\n",
    "print(counter)"
   ]
  },
  {
   "cell_type": "raw",
   "metadata": {},
   "source": [
    "Dynamic programming with tabulation:"
   ]
  },
  {
   "cell_type": "code",
   "execution_count": 14,
   "metadata": {},
   "outputs": [
    {
     "name": "stdout",
     "output_type": "stream",
     "text": [
      "[1, 1, 0, 0, 0, 0, 0, 0, 0]\n",
      "[1, 1, 1, 0, 0, 0, 0, 0, 0]\n",
      "[1, 1, 1, 1, 0, 0, 0, 0, 0]\n",
      "[1, 1, 1, 1, 1, 0, 0, 0, 0]\n",
      "[1, 1, 1, 1, 1, 1, 0, 0, 0]\n",
      "[1, 1, 1, 1, 1, 1, 1, 0, 0]\n",
      "[1, 1, 1, 1, 1, 1, 1, 1, 0]\n",
      "[1, 1, 1, 1, 1, 1, 1, 1, 1]\n",
      "[1, 1, 2, 1, 1, 1, 1, 1, 1]\n",
      "[1, 1, 2, 2, 1, 1, 1, 1, 1]\n",
      "[1, 1, 2, 2, 3, 1, 1, 1, 1]\n",
      "[1, 1, 2, 2, 3, 3, 1, 1, 1]\n",
      "[1, 1, 2, 2, 3, 3, 4, 1, 1]\n",
      "[1, 1, 2, 2, 3, 3, 4, 4, 1]\n",
      "[1, 1, 2, 2, 3, 3, 4, 4, 5]\n"
     ]
    },
    {
     "data": {
      "text/plain": [
       "5"
      ]
     },
     "execution_count": 14,
     "metadata": {},
     "output_type": "execute_result"
    }
   ],
   "source": [
    "def ways(total, k):\n",
    "    # Write your code here\n",
    "    \n",
    "    dp = [0 for i in range(total+1)]\n",
    "    \n",
    "    dp[0] = 1\n",
    "    \n",
    "    for i in range(1, k+1):\n",
    "        for j in range(1, total+1):\n",
    "            if j >= i:\n",
    "                dp[j] = dp[j] + dp[j-i]\n",
    "                print(dp)\n",
    "    \n",
    "    return dp[total]\n",
    "\n",
    "ways(8,2)"
   ]
  },
  {
   "cell_type": "markdown",
   "metadata": {},
   "source": [
    "### Ways of sum coin"
   ]
  },
  {
   "cell_type": "raw",
   "metadata": {},
   "source": [
    "Given 3 numbers {1, 3, 5}, we need to tell the total number of ways we can form a number 'N' using the sum of the given three numbers (allowing repetitions and different arrangements).\n",
    "\n",
    "Total number of ways to form 6 is: 8\n",
    "1+1+1+1+1+1\n",
    "1+1+1+3\n",
    "1+1+3+1\n",
    "1+3+1+1\n",
    "3+1+1+1\n",
    "3+3\n",
    "1+5\n",
    "5+1\n",
    "\n",
    "state(7) = state (7-1) --> can only adding number '1' to state(6) (all combination to form 6)\n",
    "         + state (7-3) --> can only adding number '3' to state(4) (all combination to form 4)\n",
    "         + state (7-5) --> can only adding number '5' to state(2) (all combination to form 2)\n",
    "state(n) = state(n-1) + state(n-3) + state(n-5)"
   ]
  },
  {
   "cell_type": "raw",
   "metadata": {},
   "source": [
    "iterative way"
   ]
  },
  {
   "cell_type": "code",
   "execution_count": 15,
   "metadata": {},
   "outputs": [],
   "source": [
    "def solve(n):\n",
    "   \n",
    "    # Base case\n",
    "    if n < 0:\n",
    "        return 0\n",
    "    if n == 0:\n",
    "        return 1\n",
    "\n",
    "    return solve(n - 1) + solve(n - 3) + solve(n - 5)"
   ]
  },
  {
   "cell_type": "code",
   "execution_count": 16,
   "metadata": {},
   "outputs": [
    {
     "name": "stdout",
     "output_type": "stream",
     "text": [
      "1\n",
      "2\n",
      "5\n",
      "8\n"
     ]
    }
   ],
   "source": [
    "print(solve(1))\n",
    "print(solve(3))\n",
    "print(solve(5))\n",
    "print(solve(6))"
   ]
  },
  {
   "cell_type": "raw",
   "metadata": {},
   "source": [
    "DP with memoization"
   ]
  },
  {
   "cell_type": "code",
   "execution_count": 17,
   "metadata": {},
   "outputs": [],
   "source": [
    "# create memo with dictionary is a smart way ! because a list should be allocated first unlike dict\n",
    "\n",
    "def solve(n, lookup = {}):\n",
    "\n",
    "    # Base cases, negative number can't be produced, return 0\n",
    "    if n < 0:\n",
    "        return 0\n",
    "\n",
    "    # 0 can be produced by not taking any number whereas 1 can be produced by just taking 1\n",
    "    if n == 0:\n",
    "        return 1\n",
    "\n",
    "    # Checking if number of way for n is already calculated or not if calculated, return that, otherwise calculate\n",
    "    if n not in lookup:\n",
    "        lookup[n] = solve(n - 1) + solve(n - 3) + solve(n - 5)\n",
    "\n",
    "    return lookup[n]"
   ]
  },
  {
   "cell_type": "code",
   "execution_count": 18,
   "metadata": {},
   "outputs": [
    {
     "name": "stdout",
     "output_type": "stream",
     "text": [
      "1\n",
      "2\n",
      "5\n",
      "8\n"
     ]
    }
   ],
   "source": [
    "print(solve(1))\n",
    "print(solve(3))\n",
    "print(solve(5))\n",
    "print(solve(6))"
   ]
  },
  {
   "cell_type": "markdown",
   "metadata": {},
   "source": [
    "### Count of different ways to express N as the sum of 1, 3 and 4"
   ]
  },
  {
   "cell_type": "raw",
   "metadata": {},
   "source": [
    "Given N, count the number of ways to express N as sum of 1, 3 and 4.\n",
    "Input :  N = 4\n",
    "Output : 4 \n",
    "Explanation: 1+1+1+1 \n",
    "             1+3\n",
    "             3+1 \n",
    "             4 \n",
    "\n",
    "Input : N = 5 \n",
    "Output : 6\n",
    "Explanation: 1 + 1 + 1 + 1 + 1\n",
    "             1 + 4\n",
    "             4 + 1\n",
    "             1 + 1 + 3\n",
    "             1 + 3 + 1\n",
    "             3 + 1 + 1\n",
    "\n",
    "DPn = DPn-1 + DPn-3 + DPn-4\n",
    "Base case : DP[0] = DP[1] = DP[2] = 1 and DP[3] = 2"
   ]
  },
  {
   "cell_type": "code",
   "execution_count": 19,
   "metadata": {},
   "outputs": [
    {
     "name": "stdout",
     "output_type": "stream",
     "text": [
      "64\n"
     ]
    }
   ],
   "source": [
    "# DP tabulation method\n",
    "def countWays(n):\n",
    "\n",
    "    DP = [0 for i in range(0, n + 1)]\n",
    "    \n",
    "    # base cases\n",
    "    DP[0] = DP[1] = DP[2] = 1\n",
    "    DP[3] = 2\n",
    "\n",
    "    # Iterate for all values from 4 to n\n",
    "    for i in range(4, n + 1):\n",
    "        DP[i] = DP[i - 1] + DP[i - 3] + DP[i - 4]\n",
    "    \n",
    "    return DP[n]\n",
    "\n",
    "# Driver code \n",
    "n = 10\n",
    "print (countWays(n))"
   ]
  },
  {
   "cell_type": "markdown",
   "metadata": {},
   "source": [
    "### Find minimum number of coins that make a given value"
   ]
  },
  {
   "cell_type": "raw",
   "metadata": {},
   "source": [
    "Input: coins[] = {25, 10, 5}, V = 30\n",
    "Output: Minimum 2 coins required\n",
    "We can use one coin of 25 cents and one of 5 cents\n",
    "\n",
    "Input: coins[] = {9, 6, 5, 1}, V = 11\n",
    "Output: Minimum 2 coins required\n",
    "We can use one coin of 6 cents and 1 coin of 5 cents"
   ]
  },
  {
   "cell_type": "code",
   "execution_count": 20,
   "metadata": {},
   "outputs": [
    {
     "name": "stdout",
     "output_type": "stream",
     "text": [
      "Minimum coins required is 2\n"
     ]
    }
   ],
   "source": [
    "# A Naive recursive python program to find minimum of coins to make a given change V\n",
    "\n",
    "def minCoins(coins, V):\n",
    "    \n",
    "    # Initialize result\n",
    "    maxSize = V + 1\n",
    "    result = maxSize\n",
    "    \n",
    "    # base case\n",
    "    if (V == 0):\n",
    "        return 0\n",
    "    \n",
    "    # Try every coin that has smaller value than V\n",
    "    for coin in coins:\n",
    "        if (coin <= V):\n",
    "            sub_result = minCoins(coins, V - coin)\n",
    "            if (sub_result + 1 < result):\n",
    "                result = sub_result + 1\n",
    "\n",
    "    return result\n",
    "\n",
    "coins = [9, 6, 5, 1]\n",
    "V = 11\n",
    "print(\"Minimum coins required is\",minCoins(coins, V))"
   ]
  },
  {
   "cell_type": "code",
   "execution_count": 21,
   "metadata": {},
   "outputs": [
    {
     "name": "stdout",
     "output_type": "stream",
     "text": [
      "[0, 1, 12, 12, 12, 12, 12, 12, 12, 12, 12, 12]\n",
      "[0, 1, 2, 12, 12, 12, 12, 12, 12, 12, 12, 12]\n",
      "[0, 1, 2, 3, 12, 12, 12, 12, 12, 12, 12, 12]\n",
      "[0, 1, 2, 3, 4, 12, 12, 12, 12, 12, 12, 12]\n",
      "[0, 1, 2, 3, 4, 1, 12, 12, 12, 12, 12, 12]\n",
      "[0, 1, 2, 3, 4, 1, 1, 12, 12, 12, 12, 12]\n",
      "[0, 1, 2, 3, 4, 1, 1, 2, 12, 12, 12, 12]\n",
      "[0, 1, 2, 3, 4, 1, 1, 2, 3, 12, 12, 12]\n",
      "[0, 1, 2, 3, 4, 1, 1, 2, 3, 1, 12, 12]\n",
      "[0, 1, 2, 3, 4, 1, 1, 2, 3, 1, 2, 12]\n",
      "[0, 1, 2, 3, 4, 1, 1, 2, 3, 1, 2, 3]\n",
      "[0, 1, 2, 3, 4, 1, 1, 2, 3, 1, 2, 2]\n",
      "Minimum coins required is 2\n"
     ]
    }
   ],
   "source": [
    "# DP tabulation, same as above concept\n",
    "\n",
    "def minCoins(coins, V):\n",
    "    \n",
    "    maxSize = V + 1\n",
    "    table = [maxSize for i in range(V + 1)]\n",
    "    table[0] = 0\n",
    "\n",
    "    for v in range(1, V + 1):\n",
    "        for coin in coins:\n",
    "            if (coin <= v):\n",
    "                sub_result = table[v - coin]\n",
    "                if (sub_result + 1 < table[v]):\n",
    "                    table[v] = sub_result + 1\n",
    "                    print(table)\n",
    "    \n",
    "    return table[V]\n",
    "\n",
    "coins = [9, 6, 5, 1]\n",
    "V = 11\n",
    "print(\"Minimum coins required is\", minCoins(coins, V))"
   ]
  },
  {
   "cell_type": "code",
   "execution_count": 22,
   "metadata": {},
   "outputs": [
    {
     "name": "stdout",
     "output_type": "stream",
     "text": [
      "[0, 1, 12, 12, 12, 12, 12, 12, 12, 12, 12, 12]\n",
      "[0, 1, 2, 12, 12, 12, 12, 12, 12, 12, 12, 12]\n",
      "[0, 1, 2, 3, 12, 12, 12, 12, 12, 12, 12, 12]\n",
      "[0, 1, 2, 3, 4, 12, 12, 12, 12, 12, 12, 12]\n",
      "[0, 1, 2, 3, 4, 1, 12, 12, 12, 12, 12, 12]\n",
      "[0, 1, 2, 3, 4, 1, 12, 12, 12, 12, 12, 12]\n",
      "[0, 1, 2, 3, 4, 1, 1, 12, 12, 12, 12, 12]\n",
      "[0, 1, 2, 3, 4, 1, 1, 12, 12, 12, 12, 12]\n",
      "[0, 1, 2, 3, 4, 1, 1, 12, 12, 12, 12, 12]\n",
      "[0, 1, 2, 3, 4, 1, 1, 2, 12, 12, 12, 12]\n",
      "[0, 1, 2, 3, 4, 1, 1, 2, 12, 12, 12, 12]\n",
      "[0, 1, 2, 3, 4, 1, 1, 2, 12, 12, 12, 12]\n",
      "[0, 1, 2, 3, 4, 1, 1, 2, 3, 12, 12, 12]\n",
      "[0, 1, 2, 3, 4, 1, 1, 2, 3, 12, 12, 12]\n",
      "[0, 1, 2, 3, 4, 1, 1, 2, 3, 12, 12, 12]\n",
      "[0, 1, 2, 3, 4, 1, 1, 2, 3, 1, 12, 12]\n",
      "[0, 1, 2, 3, 4, 1, 1, 2, 3, 1, 12, 12]\n",
      "[0, 1, 2, 3, 4, 1, 1, 2, 3, 1, 12, 12]\n",
      "[0, 1, 2, 3, 4, 1, 1, 2, 3, 1, 12, 12]\n",
      "[0, 1, 2, 3, 4, 1, 1, 2, 3, 1, 2, 12]\n",
      "[0, 1, 2, 3, 4, 1, 1, 2, 3, 1, 2, 12]\n",
      "[0, 1, 2, 3, 4, 1, 1, 2, 3, 1, 2, 12]\n",
      "[0, 1, 2, 3, 4, 1, 1, 2, 3, 1, 2, 12]\n",
      "[0, 1, 2, 3, 4, 1, 1, 2, 3, 1, 2, 3]\n",
      "[0, 1, 2, 3, 4, 1, 1, 2, 3, 1, 2, 2]\n",
      "[0, 1, 2, 3, 4, 1, 1, 2, 3, 1, 2, 2]\n",
      "[0, 1, 2, 3, 4, 1, 1, 2, 3, 1, 2, 2]\n",
      "Minimum coins required is 2\n"
     ]
    }
   ],
   "source": [
    "# DP tabulation, same as above concept\n",
    "\n",
    "def minCoins(coins, V):\n",
    "    \n",
    "    maxSize = V + 1\n",
    "    table = [maxSize for i in range(V + 1)]\n",
    "    table[0] = 0\n",
    "\n",
    "    for v in range(1, V + 1):\n",
    "        for coin in coins:\n",
    "            if (coin <= v):\n",
    "                table[v] = min(1 + table[v-coin], table[v])\n",
    "                print(table)\n",
    "    \n",
    "    return table[V]\n",
    "\n",
    "coins = [9, 6, 5, 1]\n",
    "V = 11\n",
    "print(\"Minimum coins required is\", minCoins(coins, V))"
   ]
  },
  {
   "cell_type": "code",
   "execution_count": 23,
   "metadata": {},
   "outputs": [
    {
     "name": "stdout",
     "output_type": "stream",
     "text": [
      "[0, 12, 12, 12, 12, 12, 12, 12, 12, 1, 12, 12]\n",
      "[0, 12, 12, 12, 12, 12, 12, 12, 12, 1, 12, 12]\n",
      "[0, 12, 12, 12, 12, 12, 12, 12, 12, 1, 12, 12]\n",
      "[0, 12, 12, 12, 12, 12, 1, 12, 12, 1, 12, 12]\n",
      "[0, 12, 12, 12, 12, 12, 1, 12, 12, 1, 12, 12]\n",
      "[0, 12, 12, 12, 12, 12, 1, 12, 12, 1, 12, 12]\n",
      "[0, 12, 12, 12, 12, 12, 1, 12, 12, 1, 12, 12]\n",
      "[0, 12, 12, 12, 12, 12, 1, 12, 12, 1, 12, 12]\n",
      "[0, 12, 12, 12, 12, 12, 1, 12, 12, 1, 12, 12]\n",
      "[0, 12, 12, 12, 12, 1, 1, 12, 12, 1, 12, 12]\n",
      "[0, 12, 12, 12, 12, 1, 1, 12, 12, 1, 12, 12]\n",
      "[0, 12, 12, 12, 12, 1, 1, 12, 12, 1, 12, 12]\n",
      "[0, 12, 12, 12, 12, 1, 1, 12, 12, 1, 12, 12]\n",
      "[0, 12, 12, 12, 12, 1, 1, 12, 12, 1, 12, 12]\n",
      "[0, 12, 12, 12, 12, 1, 1, 12, 12, 1, 2, 12]\n",
      "[0, 12, 12, 12, 12, 1, 1, 12, 12, 1, 2, 2]\n",
      "[0, 1, 12, 12, 12, 1, 1, 12, 12, 1, 2, 2]\n",
      "[0, 1, 2, 12, 12, 1, 1, 12, 12, 1, 2, 2]\n",
      "[0, 1, 2, 3, 12, 1, 1, 12, 12, 1, 2, 2]\n",
      "[0, 1, 2, 3, 4, 1, 1, 12, 12, 1, 2, 2]\n",
      "[0, 1, 2, 3, 4, 1, 1, 12, 12, 1, 2, 2]\n",
      "[0, 1, 2, 3, 4, 1, 1, 12, 12, 1, 2, 2]\n",
      "[0, 1, 2, 3, 4, 1, 1, 2, 12, 1, 2, 2]\n",
      "[0, 1, 2, 3, 4, 1, 1, 2, 3, 1, 2, 2]\n",
      "[0, 1, 2, 3, 4, 1, 1, 2, 3, 1, 2, 2]\n",
      "[0, 1, 2, 3, 4, 1, 1, 2, 3, 1, 2, 2]\n",
      "[0, 1, 2, 3, 4, 1, 1, 2, 3, 1, 2, 2]\n",
      "2\n"
     ]
    }
   ],
   "source": [
    "# DP tabulation\n",
    "\n",
    "def get_min_coin(coins, V):\n",
    "    \n",
    "    maxSize = V + 1\n",
    "    table = [maxSize for i in range(V + 1)]\n",
    "    table[0] = 0\n",
    "    \n",
    "    for coin in coins:\n",
    "        for v in range(coin, V + 1):\n",
    "            table[v] = min(1 + table[v-coin], table[v])\n",
    "            print(table)\n",
    "            \n",
    "    return table[V]\n",
    "\n",
    "print(get_min_coin([9, 6, 5, 1], 11))"
   ]
  },
  {
   "cell_type": "markdown",
   "metadata": {},
   "source": [
    "### 0/1 Knapsack Problem"
   ]
  },
  {
   "cell_type": "code",
   "execution_count": 24,
   "metadata": {},
   "outputs": [
    {
     "name": "stdout",
     "output_type": "stream",
     "text": [
      "220\n"
     ]
    }
   ],
   "source": [
    "#recursive: iterate from the last item to the first, take two possibility at each iteration: include or not the n-th item\n",
    "\n",
    "def knapSack(n, C):\n",
    "\n",
    "    # Base Case\n",
    "    if n == 0 or C == 0:\n",
    "        return 0\n",
    "\n",
    "    # If weight of the nth item is more than Knapsack capacity C, then this item cannot be included in the optimal solution\n",
    "    elif (w[n] > C):\n",
    "        return knapSack(n-1, C) # to the next item\n",
    "\n",
    "    # return the maximum of two cases:\n",
    "    else:\n",
    "        ifIncluded = v[n] + knapSack(n-1, C-w[n]) # (1) n-th item included\n",
    "        ifNotIncluded = knapSack(n-1, C)          # (2) n-th item not included\n",
    "        return max(ifIncluded,ifNotIncluded)\n",
    "\n",
    "w = [0, 10, 20, 30]   # zero (first index) is a dummy\n",
    "v = [0, 60, 100, 120] # zero (first index) is a dummy\n",
    "C = 50\n",
    "n = len(v)-1\n",
    "print(knapSack(n, C))"
   ]
  },
  {
   "cell_type": "markdown",
   "metadata": {},
   "source": [
    "### Unbounded Knapsack (Repetition of items allowed)"
   ]
  },
  {
   "cell_type": "code",
   "execution_count": 25,
   "metadata": {},
   "outputs": [
    {
     "name": "stdout",
     "output_type": "stream",
     "text": [
      "[0, 10, 0, 0, 0, 0, 0, 0, 0]\n",
      "[0, 10, 20, 0, 0, 0, 0, 0, 0]\n",
      "[0, 10, 20, 30, 0, 0, 0, 0, 0]\n",
      "[0, 10, 20, 40, 0, 0, 0, 0, 0]\n",
      "[0, 10, 20, 40, 50, 0, 0, 0, 0]\n",
      "[0, 10, 20, 40, 50, 0, 0, 0, 0]\n",
      "[0, 10, 20, 40, 50, 0, 0, 0, 0]\n",
      "[0, 10, 20, 40, 50, 60, 0, 0, 0]\n",
      "[0, 10, 20, 40, 50, 60, 0, 0, 0]\n",
      "[0, 10, 20, 40, 50, 60, 0, 0, 0]\n",
      "[0, 10, 20, 40, 50, 70, 0, 0, 0]\n",
      "[0, 10, 20, 40, 50, 70, 80, 0, 0]\n",
      "[0, 10, 20, 40, 50, 70, 80, 0, 0]\n",
      "[0, 10, 20, 40, 50, 70, 80, 0, 0]\n",
      "[0, 10, 20, 40, 50, 70, 80, 0, 0]\n",
      "[0, 10, 20, 40, 50, 70, 80, 90, 0]\n",
      "[0, 10, 20, 40, 50, 70, 80, 90, 0]\n",
      "[0, 10, 20, 40, 50, 70, 80, 90, 0]\n",
      "[0, 10, 20, 40, 50, 70, 80, 90, 0]\n",
      "[0, 10, 20, 40, 50, 70, 80, 90, 100]\n",
      "[0, 10, 20, 40, 50, 70, 80, 90, 110]\n",
      "[0, 10, 20, 40, 50, 70, 80, 90, 110]\n",
      "[0, 10, 20, 40, 50, 70, 80, 90, 110]\n",
      "110\n"
     ]
    }
   ],
   "source": [
    "# Python3 program to find maximum achievable value with a knapsack of weight W and multiple instances allowed.\n",
    "\n",
    "# Returns the maximum value with knapsack of W capacity\n",
    "def unboundedKnapsack(n, C):\n",
    "\n",
    "    # dp[i] is going to store maximum value with knapsack capacity i.\n",
    "    dp = [0 for i in range(C + 1)]\n",
    "\n",
    "    for i in range(C + 1):\n",
    "        for j in range(n):\n",
    "            if (w[j] <= i):\n",
    "                dp[i] = max(dp[i], dp[i - w[j]] + v[j])\n",
    "                print(dp)\n",
    "\n",
    "    return dp[C]\n",
    "\n",
    "# Driver program\n",
    "C = 8\n",
    "v = [10, 40, 50, 70]\n",
    "w = [1, 3, 4, 5]\n",
    "n = len(v)\n",
    "\n",
    "print(unboundedKnapsack(n, C))"
   ]
  },
  {
   "cell_type": "markdown",
   "metadata": {},
   "source": [
    "### Find set of numbers in array that add up to Total"
   ]
  },
  {
   "cell_type": "code",
   "execution_count": 26,
   "metadata": {},
   "outputs": [
    {
     "data": {
      "text/plain": [
       "2"
      ]
     },
     "execution_count": 26,
     "metadata": {},
     "output_type": "execute_result"
    }
   ],
   "source": [
    "# recursive\n",
    "def rec(total, i):\n",
    "    if total == 0: # base case\n",
    "        return 1\n",
    "    elif total < 0 or i < 0:\n",
    "        return 0\n",
    "    elif total < arr[i]:\n",
    "        return rec(total, i-1)\n",
    "    else:\n",
    "        ifIncluded = rec(total - arr[i], i-1) # (1) i-th item included\n",
    "        ifNotIncluded = rec(total, i-1)       # (2) i-th item not included\n",
    "        return ifIncluded + ifNotIncluded\n",
    "\n",
    "arr = [2, 4, 6, 10]\n",
    "i = len(arr)-1\n",
    "total = 16\n",
    "rec(total, i)"
   ]
  },
  {
   "cell_type": "code",
   "execution_count": 27,
   "metadata": {},
   "outputs": [
    {
     "data": {
      "text/plain": [
       "2"
      ]
     },
     "execution_count": 27,
     "metadata": {},
     "output_type": "execute_result"
    }
   ],
   "source": [
    "# DP memoization\n",
    "def rec(total, i, memo = {}):\n",
    "    key = str(total) + ':' + str(i) # --> 2D array memo\n",
    "    if key in memo:\n",
    "        return memo[key]\n",
    "    if total == 0: # base case\n",
    "        return 1\n",
    "    elif total < 0 or i < 0:\n",
    "        return 0\n",
    "    elif total < arr[i]:\n",
    "        result = rec(total, i-1)\n",
    "    else:\n",
    "        ifIncluded = rec(total - arr[i], i-1) # (1) i-th item included\n",
    "        ifNotIncluded = rec(total, i-1)       # (2) i-th item not included\n",
    "        result = ifIncluded + ifNotIncluded\n",
    "    memo[key] = result\n",
    "    return result\n",
    "    \n",
    "arr = [2, 4, 6, 10]\n",
    "i = len(arr)-1\n",
    "total = 16\n",
    "rec(total, i)"
   ]
  }
 ],
 "metadata": {
  "kernelspec": {
   "display_name": "Python 3",
   "language": "python",
   "name": "python3"
  },
  "language_info": {
   "codemirror_mode": {
    "name": "ipython",
    "version": 3
   },
   "file_extension": ".py",
   "mimetype": "text/x-python",
   "name": "python",
   "nbconvert_exporter": "python",
   "pygments_lexer": "ipython3",
   "version": "3.8.3"
  }
 },
 "nbformat": 4,
 "nbformat_minor": 4
}
