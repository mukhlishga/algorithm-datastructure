{
 "cells": [
  {
   "cell_type": "markdown",
   "metadata": {},
   "source": [
    "### Dynamic Programming: making algorithm more efficient by storing some intermediate result"
   ]
  },
  {
   "cell_type": "raw",
   "metadata": {},
   "source": [
    "1. Recursion\n",
    "The complexity increases exponientially --> O(2^n)"
   ]
  },
  {
   "cell_type": "code",
   "execution_count": 24,
   "metadata": {},
   "outputs": [],
   "source": [
    "def fibonacci_1(n):\n",
    "    if n == 1 or n == 2:\n",
    "        result = 1\n",
    "    else:\n",
    "        result = fibonacci_1(n-1) + fibonacci_1(n-2)\n",
    "    return result"
   ]
  },
  {
   "cell_type": "code",
   "execution_count": 4,
   "metadata": {},
   "outputs": [
    {
     "data": {
      "text/plain": [
       "5"
      ]
     },
     "execution_count": 4,
     "metadata": {},
     "output_type": "execute_result"
    }
   ],
   "source": [
    "print(fibonacci_1(5))\n",
    "print(fibonacci_1(20))\n",
    "print(fibonacci_1(35))"
   ]
  },
  {
   "cell_type": "raw",
   "metadata": {},
   "source": [
    "2. Memoization\n",
    "Make a memo (list) of the already computed values\n",
    "The complexity --> O(n)"
   ]
  },
  {
   "cell_type": "code",
   "execution_count": 25,
   "metadata": {},
   "outputs": [],
   "source": [
    "def fibonacci_2(n, memo):\n",
    "    if memo[n] is not None:\n",
    "        return memo[n]\n",
    "    if n == 1 or n == 2:\n",
    "        result = 1\n",
    "    else:\n",
    "        result = fibonacci_2(n-1, memo) + fibonacci_2(n-2, memo)\n",
    "    memo[n] = result\n",
    "    return result\n",
    "\n",
    "def fibonacci_memo(n):\n",
    "    memo = [None] * (n+1)\n",
    "    return fibonacci_2(n, memo)"
   ]
  },
  {
   "cell_type": "code",
   "execution_count": 26,
   "metadata": {},
   "outputs": [
    {
     "name": "stdout",
     "output_type": "stream",
     "text": [
      "5\n",
      "6765\n",
      "9227465\n"
     ]
    }
   ],
   "source": [
    "print(fibonacci_memo(5))\n",
    "print(fibonacci_memo(20))\n",
    "print(fibonacci_memo(35))"
   ]
  },
  {
   "cell_type": "raw",
   "metadata": {},
   "source": [
    "3. Bottom up\n",
    "Make the memo list first, then print the memo at n-th element\n",
    "The complexity --> O(n)"
   ]
  },
  {
   "cell_type": "code",
   "execution_count": 18,
   "metadata": {},
   "outputs": [],
   "source": [
    "def fibonacci_3(n):\n",
    "    if n == 1 or n == 2:\n",
    "        result = 1\n",
    "    botom_up = [None] * (n+1)\n",
    "    botom_up[1] = 1\n",
    "    botom_up[2] = 2\n",
    "    for i in range(3, n+1):\n",
    "        botom_up[i] = botom_up[i-1] + botom_up[i-2]\n",
    "    return botom_up[n]"
   ]
  },
  {
   "cell_type": "code",
   "execution_count": 23,
   "metadata": {},
   "outputs": [
    {
     "name": "stdout",
     "output_type": "stream",
     "text": [
      "8\n",
      "10946\n",
      "14930352\n"
     ]
    }
   ],
   "source": [
    "print(fibonacci_3(5))\n",
    "print(fibonacci_3(20))\n",
    "print(fibonacci_3(35))"
   ]
  },
  {
   "cell_type": "markdown",
   "metadata": {},
   "source": [
    "### Factorial"
   ]
  },
  {
   "cell_type": "code",
   "execution_count": 15,
   "metadata": {},
   "outputs": [],
   "source": [
    "def factorial(n):\n",
    "    if n <= 1:\n",
    "        return 1\n",
    "    else:\n",
    "        return n*factorial(n-1)"
   ]
  },
  {
   "cell_type": "code",
   "execution_count": 17,
   "metadata": {},
   "outputs": [
    {
     "name": "stdout",
     "output_type": "stream",
     "text": [
      "1\n",
      "1\n",
      "2\n",
      "6\n",
      "24\n"
     ]
    }
   ],
   "source": [
    "print(factorial(0))\n",
    "print(factorial(1))\n",
    "print(factorial(2))\n",
    "print(factorial(3))\n",
    "print(factorial(4))"
   ]
  }
 ],
 "metadata": {
  "kernelspec": {
   "display_name": "Python 3",
   "language": "python",
   "name": "python3"
  },
  "language_info": {
   "codemirror_mode": {
    "name": "ipython",
    "version": 3
   },
   "file_extension": ".py",
   "mimetype": "text/x-python",
   "name": "python",
   "nbconvert_exporter": "python",
   "pygments_lexer": "ipython3",
   "version": "3.8.3"
  }
 },
 "nbformat": 4,
 "nbformat_minor": 4
}
