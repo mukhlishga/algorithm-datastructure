{
 "cells": [
  {
   "cell_type": "markdown",
   "metadata": {},
   "source": [
    "# Insertion sort"
   ]
  },
  {
   "cell_type": "markdown",
   "metadata": {},
   "source": [
    "- Not a fast sorting algorithm because it uses nested loop to sort\n",
    "- It is useful only for small dataset\n",
    "- It runs in O(n^2) because of nested for loops"
   ]
  },
  {
   "cell_type": "code",
   "execution_count": 1,
   "metadata": {},
   "outputs": [],
   "source": [
    "def insertion_sort(A):\n",
    "    for i in range(1, len(A)):\n",
    "        for j in range(i-1, -1, -1):\n",
    "            if A[j] > A[j+1]:\n",
    "                A[j], A[j+1] = A[j+1], A[j]\n",
    "            else:\n",
    "                break"
   ]
  },
  {
   "cell_type": "code",
   "execution_count": 2,
   "metadata": {},
   "outputs": [
    {
     "name": "stdout",
     "output_type": "stream",
     "text": [
      "[3, 8, 6, 2, 10, 7, 1, 5, 4, 9]\n",
      "[1, 2, 3, 4, 5, 6, 7, 8, 9, 10]\n"
     ]
    }
   ],
   "source": [
    "A = [3,8,6,2,10,7,1,5,4,9]\n",
    "print(A)\n",
    "insertion_sort(A)\n",
    "print(A)"
   ]
  },
  {
   "cell_type": "markdown",
   "metadata": {},
   "source": [
    "# Selection sort"
   ]
  },
  {
   "cell_type": "markdown",
   "metadata": {},
   "source": [
    "- Not a fast sorting algorithm because it uses nested loop to sort\n",
    "- It is useful only for small dataset\n",
    "- It runs in O(n^2) because of nested for loops"
   ]
  },
  {
   "cell_type": "code",
   "execution_count": 3,
   "metadata": {},
   "outputs": [],
   "source": [
    "def selection_sort(A):\n",
    "    for i in range (0, len(A)-1):\n",
    "        minIndex = i\n",
    "        for j in range (i+1, len(A)):\n",
    "            if A[j] < A[minIndex]:\n",
    "                minIndex = j\n",
    "        if minIndex != i:\n",
    "            A[i], A[minIndex] = A[minIndex], A[i]"
   ]
  },
  {
   "cell_type": "code",
   "execution_count": 4,
   "metadata": {},
   "outputs": [
    {
     "name": "stdout",
     "output_type": "stream",
     "text": [
      "[3, 8, 6, 2, 10, 7, 1, 5, 4, 9]\n",
      "[1, 2, 3, 4, 5, 6, 7, 8, 9, 10]\n"
     ]
    }
   ],
   "source": [
    "A = [3,8,6,2,10,7,1,5,4,9]\n",
    "print(A)\n",
    "selection_sort(A)\n",
    "print(A)"
   ]
  },
  {
   "cell_type": "markdown",
   "metadata": {},
   "source": [
    "# Bubble sort"
   ]
  },
  {
   "cell_type": "markdown",
   "metadata": {},
   "source": [
    "- Not a fast sorting algorithm because it uses nested loop to sort\n",
    "- It is useful only for small dataset\n",
    "- It runs in O(n^2) because of nested for loops"
   ]
  },
  {
   "cell_type": "code",
   "execution_count": 5,
   "metadata": {},
   "outputs": [],
   "source": [
    "def bubble_sort(A):\n",
    "    for i in range (0, len(A)-1):\n",
    "        for j in range (0, len(A)-1-i):\n",
    "            if A[j] > A[j+1]:\n",
    "                A[j], A[j+1] = A[j+1], A[j]"
   ]
  },
  {
   "cell_type": "code",
   "execution_count": 6,
   "metadata": {},
   "outputs": [
    {
     "name": "stdout",
     "output_type": "stream",
     "text": [
      "[3, 8, 6, 2, 10, 7, 1, 5, 4, 9]\n",
      "[1, 2, 3, 4, 5, 6, 7, 8, 9, 10]\n"
     ]
    }
   ],
   "source": [
    "A = [3,8,6,2,10,7,1,5,4,9]\n",
    "print(A)\n",
    "bubble_sort(A)\n",
    "print(A)"
   ]
  },
  {
   "cell_type": "markdown",
   "metadata": {},
   "source": [
    "# Merge sort"
   ]
  },
  {
   "cell_type": "markdown",
   "metadata": {},
   "source": [
    "- Mege sort is recursive\n",
    "- Divide and conquer algorithm:\n",
    "    - Break list into half, until 1 sublist has 2 item\n",
    "    - sort each of those sublists of 2 items\n",
    "    - merge it and sort by comparing per item\n",
    "- very efficient for large database\n",
    "- It runs in O(n log n) because:\n",
    "    - It does log n merge steps because each merge step doubles the list size\n",
    "    - it does n work for each merge step because it must look at every item"
   ]
  },
  {
   "cell_type": "code",
   "execution_count": 7,
   "metadata": {},
   "outputs": [],
   "source": [
    "import sys \n",
    "\n",
    "def merge_sort(A):\n",
    "    merge_sort2(A, 0, len(A)-1)\n",
    "\n",
    "def merge_sort2(A, first, last): # A = the list, first = start index, last = ending index\n",
    "    if first < last: # if more than 1 item in the list\n",
    "        middle = (first + last)//2 # find the middle index\n",
    "        merge_sort2(A, first, middle)\n",
    "        merge_sort2(A, middle+1, last)\n",
    "        merge(A, first, middle, last)\n",
    "        \n",
    "def merge(A, first, middle, last):\n",
    "    L = A[first:middle+1]\n",
    "    R = A[middle+1:last+1]\n",
    "    L.append(sys.maxsize) # a big number at the end of the sublist\n",
    "    R.append(sys.maxsize) # a big number at the end of the sublist\n",
    "    i = j = 0\n",
    "    for k in range(first, last+1):\n",
    "        if L[i] <= R[j]:\n",
    "            A[k] = L[i]\n",
    "            i += 1\n",
    "        else:\n",
    "            A[k] = R[j]\n",
    "            j += 1"
   ]
  },
  {
   "cell_type": "code",
   "execution_count": 8,
   "metadata": {},
   "outputs": [
    {
     "name": "stdout",
     "output_type": "stream",
     "text": [
      "[3, 8, 6, 2, 10, 7, 1, 5, 4, 9]\n",
      "[1, 2, 3, 4, 5, 6, 7, 8, 9, 10]\n"
     ]
    }
   ],
   "source": [
    "A = [3,8,6,2,10,7,1,5,4,9]\n",
    "print(A)\n",
    "merge_sort(A)\n",
    "print(A)"
   ]
  },
  {
   "cell_type": "markdown",
   "metadata": {},
   "source": [
    "# Quick sort"
   ]
  },
  {
   "cell_type": "markdown",
   "metadata": {},
   "source": [
    "- Mege sort is recursive\n",
    "- Divide and conquer algorithm:\n",
    "    - decide one pivot item\n",
    "    - move values less than pivot to the leftpartition, larger than pivot to the right partition\n",
    "    - choose median from the first, middle, and last value as the pivot value \n",
    "- very efficient for large database\n",
    "- Worst case is O(n^2), average case runs in O(n log n)\n",
    "- Performance depends largerly on pivot selection"
   ]
  },
  {
   "cell_type": "code",
   "execution_count": 9,
   "metadata": {},
   "outputs": [],
   "source": [
    "def quick_sort(A):\n",
    "    quick_sort2(A, 0, len(A)-1)\n",
    "\n",
    "def quick_sort2(A, low, hi):\n",
    "    if low < hi:\n",
    "        p = partition(A, low, hi)\n",
    "        quick_sort2(A, low, p - 1)\n",
    "        quick_sort2(A, p + 1, hi)\n",
    "\n",
    "def get_pivot(A, low, hi): #get the median of low, mid, and hi as pivot item\n",
    "    mid = (hi + low) // 2\n",
    "    s = sorted([A[low], A[mid], A[hi]])\n",
    "    if s[1] == A[low]:\n",
    "        return low\n",
    "    elif s[1] == A[mid]:\n",
    "        return mid\n",
    "    return hi\n",
    "\n",
    "def partition(A, low, hi):\n",
    "    pivotIndex = get_pivot(A, low, hi)\n",
    "    pivotValue = A[pivotIndex]\n",
    "    A[pivotIndex], A[low] = A[low], A[pivotIndex] # move pivot to the left\n",
    "    border = low\n",
    "    \n",
    "    for i in range(low, hi+1):\n",
    "        if A[i] < pivotValue:\n",
    "            border += 1\n",
    "            A[i], A[border] = A[border], A[i]\n",
    "    A[low], A[border] = A[border], A[low]\n",
    "    \n",
    "    return border"
   ]
  },
  {
   "cell_type": "code",
   "execution_count": 10,
   "metadata": {},
   "outputs": [
    {
     "name": "stdout",
     "output_type": "stream",
     "text": [
      "[3, 8, 6, 2, 10, 7, 1, 5, 4, 9]\n",
      "[1, 2, 3, 4, 5, 6, 7, 8, 9, 10]\n"
     ]
    }
   ],
   "source": [
    "A = [3,8,6,2,10,7,1,5,4,9]\n",
    "print(A)\n",
    "quick_sort(A)\n",
    "print(A)"
   ]
  }
 ],
 "metadata": {
  "kernelspec": {
   "display_name": "Python 3",
   "language": "python",
   "name": "python3"
  },
  "language_info": {
   "codemirror_mode": {
    "name": "ipython",
    "version": 3
   },
   "file_extension": ".py",
   "mimetype": "text/x-python",
   "name": "python",
   "nbconvert_exporter": "python",
   "pygments_lexer": "ipython3",
   "version": "3.8.3"
  }
 },
 "nbformat": 4,
 "nbformat_minor": 4
}
