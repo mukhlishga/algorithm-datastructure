{
 "metadata": {
  "language_info": {
   "codemirror_mode": {
    "name": "ipython",
    "version": 3
   },
   "file_extension": ".py",
   "mimetype": "text/x-python",
   "name": "python",
   "nbconvert_exporter": "python",
   "pygments_lexer": "ipython3",
   "version": "3.8.6"
  },
  "orig_nbformat": 2,
  "kernelspec": {
   "name": "python386jvsc74a57bd0429225de9e862c7d86f4bb170c39be9ceb1cb36d01a378e9ea39920c9af8732c",
   "display_name": "Python 3.8.6 64-bit ('ms_python': virtualenvwrapper)"
  },
  "metadata": {
   "interpreter": {
    "hash": "429225de9e862c7d86f4bb170c39be9ceb1cb36d01a378e9ea39920c9af8732c"
   }
  }
 },
 "nbformat": 4,
 "nbformat_minor": 2,
 "cells": [
  {
   "source": [
    "without using *args, the argument have to be in list type"
   ],
   "cell_type": "markdown",
   "metadata": {}
  },
  {
   "cell_type": "code",
   "execution_count": 1,
   "metadata": {},
   "outputs": [
    {
     "output_type": "stream",
     "name": "stdout",
     "text": [
      "6\n"
     ]
    }
   ],
   "source": [
    "def my_sum(list_args):\n",
    "    result = 0\n",
    "    for x in list_args:\n",
    "        result += x\n",
    "    return result\n",
    "\n",
    "print(my_sum([1,2,3]))"
   ]
  },
  {
   "source": [
    "using \\*args, the argument can be of type anything, multiple. so \\* is an iterable (tuple) unpacking  operator"
   ],
   "cell_type": "markdown",
   "metadata": {}
  },
  {
   "cell_type": "code",
   "execution_count": 2,
   "metadata": {},
   "outputs": [
    {
     "output_type": "stream",
     "name": "stdout",
     "text": [
      "6\n"
     ]
    }
   ],
   "source": [
    "def my_sum(*args):\n",
    "    result = 0\n",
    "    for x in args:\n",
    "        result += x\n",
    "    return result\n",
    "\n",
    "print(my_sum(1,2,3))"
   ]
  },
  {
   "cell_type": "code",
   "execution_count": 40,
   "metadata": {},
   "outputs": [
    {
     "output_type": "stream",
     "name": "stdout",
     "text": [
      "[1, 2, 3]\n1 2 3\n"
     ]
    }
   ],
   "source": [
    "my_list = [1,2,3]\n",
    "print(my_list)\n",
    "print(*my_list) # * pada argument akan mengunpack isi argumentnya, jadi isi list akan diunpack. * operator tells prin() to unpack the list first"
   ]
  },
  {
   "source": [
    " so \\**kwargs is an iterable (dictionary) unpacking  operator"
   ],
   "cell_type": "markdown",
   "metadata": {}
  },
  {
   "cell_type": "code",
   "execution_count": 20,
   "metadata": {},
   "outputs": [
    {
     "output_type": "stream",
     "name": "stdout",
     "text": [
      "huruf a huruf b huruf c \n"
     ]
    }
   ],
   "source": [
    "def concatenate(**kwargs):\n",
    "    result = \"\"\n",
    "    for arg in kwargs.values():\n",
    "        result += arg\n",
    "    return result\n",
    "\n",
    "print(concatenate(a = \"huruf a \", b = \"huruf b \", c = \"huruf c \")) #bukan bentuk format dictionary python secara formal, tapi seperti kalo ingin input berbagai argument baru"
   ]
  },
  {
   "cell_type": "code",
   "execution_count": 38,
   "metadata": {},
   "outputs": [
    {
     "output_type": "stream",
     "name": "stdout",
     "text": [
      "abc\n"
     ]
    }
   ],
   "source": [
    "def concatenate(**kwargs):\n",
    "    result = \"\"\n",
    "    for arg in kwargs:\n",
    "        result += arg\n",
    "    return result\n",
    "\n",
    "print(concatenate(a = \"huruf a \", b = \"huruf b \", c = \"huruf c \"))"
   ]
  },
  {
   "cell_type": "code",
   "execution_count": 39,
   "metadata": {},
   "outputs": [
    {
     "output_type": "stream",
     "name": "stdout",
     "text": [
      "ahuruf a bhuruf b churuf c \n"
     ]
    }
   ],
   "source": [
    "def concatenate(**kwargs):\n",
    "    result = \"\"\n",
    "    for key, value in kwargs.items():\n",
    "        result += key\n",
    "        result += value\n",
    "    return result\n",
    "\n",
    "print(concatenate(a = \"huruf a \", b = \"huruf b \", c = \"huruf c \"))"
   ]
  },
  {
   "cell_type": "code",
   "execution_count": 27,
   "metadata": {},
   "outputs": [
    {
     "output_type": "stream",
     "name": "stdout",
     "text": [
      " huruf a huruf b huruf c \n"
     ]
    }
   ],
   "source": [
    "def concatenate(kwargs):\n",
    "    result = \"\"\n",
    "    result = kwargs['a'] + kwargs['b'] + kwargs['c']\n",
    "    return result\n",
    "\n",
    "dict_input = {\n",
    "    'a' : ' huruf a ', \n",
    "    'b' : 'huruf b ', \n",
    "    'c' : 'huruf c '\n",
    "}\n",
    "\n",
    "print(concatenate(dict_input))"
   ]
  },
  {
   "cell_type": "code",
   "execution_count": 31,
   "metadata": {},
   "outputs": [
    {
     "output_type": "stream",
     "name": "stdout",
     "text": [
      " huruf a huruf b huruf c \n"
     ]
    }
   ],
   "source": [
    "def concatenate(**kwargs): #jika di paramater ada **, maka\n",
    "    result = \"\"\n",
    "    result = kwargs['a'] + kwargs['b'] + kwargs['c']\n",
    "    return result\n",
    "\n",
    "dict_input = {\n",
    "    'a' : ' huruf a ', \n",
    "    'b' : 'huruf b ', \n",
    "    'c' : 'huruf c '\n",
    "}\n",
    "\n",
    "print(concatenate(**dict_input)) #maka di argument harus ada ** juga, jika tidak maka akan dianggap paramaeter input 0 positional argument tapi diberi 1 argument. input fungsi concatenate(**kwargs) harus sudah diunpack oleh operator ** pada argument"
   ]
  },
  {
   "cell_type": "code",
   "execution_count": 56,
   "metadata": {},
   "outputs": [
    {
     "output_type": "stream",
     "name": "stdout",
     "text": [
      "arg1: Geeks\narg2: for\narg3: Geeks\narg1: Geeks\narg2: for\narg3: Geeks\narg1: Geeks\narg2: for\narg3: Geeks\n"
     ]
    }
   ],
   "source": [
    "def myFun(arg1, arg2, arg3):\n",
    "    print(\"arg1:\", arg1)\n",
    "    print(\"arg2:\", arg2)\n",
    "    print(\"arg3:\", arg3)\n",
    "     \n",
    "# Now we can use *args or **kwargs to\n",
    "# pass arguments to this function :\n",
    "args = (\"Geeks\", \"for\", \"Geeks\")\n",
    "myFun(*args)\n",
    " \n",
    "kwargs = {\"arg1\" : \"Geeks\", \"arg2\" : \"for\", \"arg3\" : \"Geeks\"}\n",
    "myFun(**kwargs)\n",
    "# atau\n",
    "myFun(arg1 = \"Geeks\", arg2 = \"for\", arg3 = \"Geeks\") # harus sama nama argx nya\n",
    "\n",
    "#fungsi myFun bisa dijalankan karena operator ** pada argument saat fungsi dipanggil telah mengunpack argument, sehingga pas jumlahnya 3 argument sesuai request def fungsi"
   ]
  },
  {
   "cell_type": "code",
   "execution_count": 53,
   "metadata": {},
   "outputs": [
    {
     "output_type": "stream",
     "name": "stdout",
     "text": [
      "args:  ('geeks', 'for', 'geeks')\nkwargs:  {'first': 'Geeks', 'mid': 'for', 'last': 'Geeks'}\n"
     ]
    }
   ],
   "source": [
    "def myFun(*args,**kwargs): # harus *args dulu baru **kwargs\n",
    "    print(\"args: \", args)\n",
    "    print(\"kwargs: \", kwargs)\n",
    " \n",
    " \n",
    "# Now we can use both *args ,**kwargs\n",
    "# to pass arguments to this function :\n",
    "myFun('geeks','for','geeks',first=\"Geeks\",mid=\"for\",last=\"Geeks\")"
   ]
  }
 ]
}