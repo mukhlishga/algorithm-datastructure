{
 "cells": [
  {
   "cell_type": "markdown",
   "metadata": {},
   "source": [
    "Binary Search"
   ]
  },
  {
   "cell_type": "code",
   "execution_count": 1,
   "metadata": {},
   "outputs": [],
   "source": [
    "def search(arr, target): # arr must be aready sorted\n",
    "    left = 0\n",
    "    right = len(arr) - 1\n",
    "    while (left < right):\n",
    "        mid = (left+right)//2\n",
    "        if arr[mid] == target:\n",
    "            return mid\n",
    "        else:\n",
    "            if (target < arr[mid]):\n",
    "                right = mid - 1\n",
    "            else:\n",
    "                left = mid + 1"
   ]
  },
  {
   "cell_type": "code",
   "execution_count": 2,
   "metadata": {},
   "outputs": [
    {
     "name": "stdout",
     "output_type": "stream",
     "text": [
      "6\n"
     ]
    }
   ],
   "source": [
    "arr = [-2, 3, 4, 7, 8, 9, 11, 13]\n",
    "print(search(arr, 11))"
   ]
  }
 ],
 "metadata": {
  "kernelspec": {
   "display_name": "Python 3",
   "language": "python",
   "name": "python3"
  },
  "language_info": {
   "codemirror_mode": {
    "name": "ipython",
    "version": 3
   },
   "file_extension": ".py",
   "mimetype": "text/x-python",
   "name": "python",
   "nbconvert_exporter": "python",
   "pygments_lexer": "ipython3",
   "version": "3.8.3"
  }
 },
 "nbformat": 4,
 "nbformat_minor": 4
}
