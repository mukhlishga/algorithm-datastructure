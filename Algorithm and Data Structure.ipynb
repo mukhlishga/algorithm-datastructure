{
 "cells": [
  {
   "cell_type": "markdown",
   "metadata": {},
   "source": [
    "# List"
   ]
  },
  {
   "cell_type": "raw",
   "metadata": {},
   "source": [
    "General purpose\n",
    "Most widely used data structure\n",
    "Grow and shrink size as needed\n",
    "Sequence type\n",
    "Sortable"
   ]
  },
  {
   "cell_type": "code",
   "execution_count": 1,
   "metadata": {},
   "outputs": [
    {
     "name": "stdout",
     "output_type": "stream",
     "text": [
      "['a', 25, 'dog', 8.43]\n"
     ]
    }
   ],
   "source": [
    "x = ['a', 25, 'dog', 8.43]\n",
    "print(x)"
   ]
  },
  {
   "cell_type": "code",
   "execution_count": 2,
   "metadata": {},
   "outputs": [
    {
     "name": "stdout",
     "output_type": "stream",
     "text": [
      "[25, 36, 49, 64, 81]\n",
      "[1, 2, 3, 4]\n",
      "[1, 2, 3, 4]\n"
     ]
    }
   ],
   "source": [
    "# list comprehension\n",
    "x = [i**2 for i in range(10) if i>4]\n",
    "print(x)\n",
    "\n",
    "a = [[1,2],[3,4]]\n",
    "\n",
    "new_list = [x for b in a for x in b]\n",
    "print(new_list)\n",
    "\n",
    "new_list2 = []\n",
    "for b in a:\n",
    "    for x in b:\n",
    "        new_list2.append(x)\n",
    "print(new_list2)"
   ]
  },
  {
   "cell_type": "markdown",
   "metadata": {},
   "source": [
    "# Tuples"
   ]
  },
  {
   "cell_type": "raw",
   "metadata": {},
   "source": [
    "Immutable (can't add/change)\n",
    "Useful for fixed data\n",
    "Faste than List\n",
    "Sequence type"
   ]
  },
  {
   "cell_type": "code",
   "execution_count": 3,
   "metadata": {},
   "outputs": [
    {
     "name": "stdout",
     "output_type": "stream",
     "text": [
      "('a', 25, 'dog', 8.43)\n"
     ]
    }
   ],
   "source": [
    "x = ('a', 25, 'dog', 8.43)\n",
    "print(x)"
   ]
  },
  {
   "cell_type": "markdown",
   "metadata": {},
   "source": [
    "# Sets"
   ]
  },
  {
   "cell_type": "raw",
   "metadata": {},
   "source": [
    "Store non-duplicate items\n",
    "Very fast access vs Lists\n",
    "Math Set ops (union, intersect)\n",
    "Sets are unordered"
   ]
  },
  {
   "cell_type": "code",
   "execution_count": 4,
   "metadata": {},
   "outputs": [
    {
     "name": "stdout",
     "output_type": "stream",
     "text": [
      "{3, 5}\n"
     ]
    }
   ],
   "source": [
    "x = {3, 5, 3, 5}\n",
    "print(x)"
   ]
  },
  {
   "cell_type": "markdown",
   "metadata": {},
   "source": [
    "# Dictionaries/Hash table"
   ]
  },
  {
   "cell_type": "raw",
   "metadata": {},
   "source": [
    "Key-Value pairs\n",
    "Associative array, like Java HashMap\n",
    "Dicts are unordered\n",
    "Good for: add, remove, retrieving\n",
    "Bad: key collisions (when keys have same memory locations) "
   ]
  },
  {
   "cell_type": "code",
   "execution_count": 5,
   "metadata": {},
   "outputs": [
    {
     "name": "stdout",
     "output_type": "stream",
     "text": [
      "{'fish': 25.3, 'beef': 33.8, 'chicken': 22.7}\n",
      "{'fish': 27.3, 'beef': 33.8, 'chicken': 22.7}\n",
      "dict_keys(['fish', 'beef', 'chicken'])\n",
      "dict_values([27.3, 33.8, 22.7])\n",
      "dict_items([('fish', 27.3), ('beef', 33.8), ('chicken', 22.7)])\n",
      "True\n",
      "fish 27.3\n",
      "beef 33.8\n",
      "chicken 22.7\n",
      "fish 27.3\n",
      "beef 33.8\n",
      "chicken 22.7\n"
     ]
    }
   ],
   "source": [
    "x = {'fish':25.3, 'beef':33.8, 'chicken':22.7}\n",
    "print(x)\n",
    "\n",
    "x['fish'] = 27.3\n",
    "print(x)\n",
    "\n",
    "print(x.keys())\n",
    "print(x.values())\n",
    "print(x.items())\n",
    "print('beef' in x)\n",
    "for key in x:\n",
    "    print(key, x[key])\n",
    "for key, values in x.items():\n",
    "    print(key, values)"
   ]
  },
  {
   "cell_type": "markdown",
   "metadata": {},
   "source": [
    "# Stacks"
   ]
  },
  {
   "cell_type": "raw",
   "metadata": {},
   "source": [
    "Last In First Out (LIFO) array\n",
    "Funtion: push, pop, peek (see top item without removing), clear\n",
    "Good for: Depth First Search (DFS)"
   ]
  },
  {
   "cell_type": "code",
   "execution_count": 6,
   "metadata": {},
   "outputs": [
    {
     "name": "stdout",
     "output_type": "stream",
     "text": [
      "[4, 7, 12, 19]\n",
      "19\n",
      "[4, 7, 12]\n"
     ]
    }
   ],
   "source": [
    "# push is append() and pop is pop()\n",
    "my_stack = list()\n",
    "my_stack.append(4)\n",
    "my_stack.append(7)\n",
    "my_stack.append(12)\n",
    "my_stack.append(19)\n",
    "print(my_stack)\n",
    "\n",
    "print(my_stack.pop()) # pop() returns the deleted item\n",
    "print(my_stack)"
   ]
  },
  {
   "cell_type": "code",
   "execution_count": 7,
   "metadata": {},
   "outputs": [],
   "source": [
    "# Stack using List with a wrapper class\n",
    "class Stack():\n",
    "    \n",
    "    def __init__(self):\n",
    "        self.stack = list()\n",
    "        \n",
    "    def push(self, item):\n",
    "        self.stack.append(item)\n",
    "        \n",
    "    def pop(self):\n",
    "        if len(self.stack) > 0:\n",
    "            return self.stack.pop()\n",
    "        else:\n",
    "            return None\n",
    "        \n",
    "    def peek(self):\n",
    "        if len(self.stack) > 0:\n",
    "            return self.stack[len(self.stack)-1]\n",
    "        else:\n",
    "            return None\n",
    "        \n",
    "    def __str__(self):\n",
    "        return str(self.stack)"
   ]
  },
  {
   "cell_type": "code",
   "execution_count": 8,
   "metadata": {},
   "outputs": [
    {
     "name": "stdout",
     "output_type": "stream",
     "text": [
      "[1, 3]\n",
      "3\n",
      "1\n",
      "1\n",
      "None\n"
     ]
    }
   ],
   "source": [
    "# Test code for stack wrapper class\n",
    "my_stack = Stack()\n",
    "my_stack.push(1)\n",
    "my_stack.push(3)\n",
    "print(my_stack)\n",
    "print(my_stack.pop())\n",
    "print(my_stack.peek())\n",
    "print(my_stack.pop())\n",
    "print(my_stack.pop())"
   ]
  },
  {
   "cell_type": "markdown",
   "metadata": {},
   "source": [
    "# Queues"
   ]
  },
  {
   "cell_type": "raw",
   "metadata": {},
   "source": [
    "First In First Out (FIFO) array\n",
    "Function: enqueue, dequeue \n",
    "Good for: Breadth First Search (BFS)"
   ]
  },
  {
   "cell_type": "code",
   "execution_count": 9,
   "metadata": {},
   "outputs": [
    {
     "name": "stdout",
     "output_type": "stream",
     "text": [
      "deque([5, 10])\n",
      "5\n",
      "deque([10])\n"
     ]
    }
   ],
   "source": [
    "# engueue is append() and dequeue is popleft()\n",
    "from collections import deque # deque is a double-ended queue\n",
    "my_queue = deque()\n",
    "my_queue.append(5)\n",
    "my_queue.append(10)\n",
    "print(my_queue)\n",
    "print(my_queue.popleft()) # popleft() returns the deleted item\n",
    "print(my_queue)"
   ]
  },
  {
   "cell_type": "code",
   "execution_count": 10,
   "metadata": {},
   "outputs": [],
   "source": [
    "# Queue using deque with a wrapper class\n",
    "from collections import deque\n",
    "\n",
    "class Queue():\n",
    "    \n",
    "    def __init__(self):\n",
    "        self.queue = deque()\n",
    "        \n",
    "    def enqueue(self, item):\n",
    "        self.queue.append(item)\n",
    "        \n",
    "    def dequeue(self):\n",
    "        if len(self.queue) > 0:\n",
    "            return self.queue.popleft()\n",
    "        else:\n",
    "            return None\n",
    "        \n",
    "    def get_size(self):\n",
    "        return len(self.queue)\n",
    "    \n",
    "    def __str__(self):\n",
    "        return str(self.queue)"
   ]
  },
  {
   "cell_type": "code",
   "execution_count": 11,
   "metadata": {},
   "outputs": [
    {
     "name": "stdout",
     "output_type": "stream",
     "text": [
      "deque([1, 3, 5])\n",
      "1\n",
      "deque([3, 5])\n"
     ]
    }
   ],
   "source": [
    "# Test code for queue wrapper class\n",
    "my_queue = Queue()\n",
    "my_queue.enqueue(1)\n",
    "my_queue.enqueue(3)\n",
    "my_queue.enqueue(5)\n",
    "print(my_queue)\n",
    "print(my_queue.dequeue())\n",
    "print(my_queue)"
   ]
  },
  {
   "cell_type": "markdown",
   "metadata": {},
   "source": [
    "# Regular Linked Lists"
   ]
  },
  {
   "cell_type": "raw",
   "metadata": {},
   "source": [
    "Node containing data and a pointer to the next node\n",
    "First node = head/root, Last node = tail (without pointer)\n",
    "Attributes: root (pointer to root), size\n",
    "Functions: find(data), add(data), remove(data), print_list()\n",
    "Good for: adding new items, deleting items\n",
    "Bad for: retrieveing, searching"
   ]
  },
  {
   "cell_type": "code",
   "execution_count": 12,
   "metadata": {},
   "outputs": [],
   "source": [
    "class Node():\n",
    "    \n",
    "    def __init__(self, d, n=None, p=None):\n",
    "        self.data = d\n",
    "        self.next_node = n\n",
    "        self.prev_node = p\n",
    "        \n",
    "    def __str__(self):\n",
    "        return ('(' + str(self.data) + ')')"
   ]
  },
  {
   "cell_type": "code",
   "execution_count": 13,
   "metadata": {},
   "outputs": [],
   "source": [
    "class LinkedList():\n",
    "    \n",
    "    def __init__(self, r=None):\n",
    "        self.root = r\n",
    "        self.size = 0\n",
    "        \n",
    "    def add(self, d):\n",
    "        new_node = Node(d, self.root) #only adding next node info\n",
    "        self.root = new_node\n",
    "        self.size += 1\n",
    "        \n",
    "    def find(self, d):\n",
    "        this_node = self.root\n",
    "        while this_node is not None:\n",
    "            if this_node.data == d:\n",
    "                return d\n",
    "            else:\n",
    "                this_node = this_node.next_node\n",
    "        return None\n",
    "    \n",
    "    def remove(self, d):\n",
    "        this_node = self.root\n",
    "        prev_node = None\n",
    "        \n",
    "        while this_node is not None:\n",
    "            if this_node.data == d:\n",
    "                if prev_node is not None: # data is in non-root\n",
    "                    prev_node.next_node = this_node.next_node\n",
    "                else: # data is in root node\n",
    "                    self.root = this_node.next_node\n",
    "                self.size -= 1\n",
    "                return True # data removed\n",
    "            else:\n",
    "                prev_node = this_node\n",
    "                this_node = this_node.next_node\n",
    "        return False # data not found\n",
    "            \n",
    "    def print_list(self):\n",
    "        this_node = self.root\n",
    "        while this_node is not None:\n",
    "            print(this_node, end='->')\n",
    "            this_node = this_node.next_node\n",
    "        print('None')"
   ]
  },
  {
   "cell_type": "code",
   "execution_count": 14,
   "metadata": {},
   "outputs": [
    {
     "name": "stdout",
     "output_type": "stream",
     "text": [
      "(12)->(8)->(5)->None\n",
      "size=3\n",
      "(12)->(5)->None\n",
      "size=2\n",
      "5\n",
      "(12)\n"
     ]
    }
   ],
   "source": [
    "#test code\n",
    "myList = LinkedList()\n",
    "myList.add(5)\n",
    "myList.add(8)\n",
    "myList.add(12)\n",
    "myList.print_list()\n",
    "\n",
    "print('size='+str(myList.size))\n",
    "myList.remove(8)\n",
    "myList.print_list()\n",
    "print('size='+str(myList.size))\n",
    "print(myList.find(5))\n",
    "print(myList.root)"
   ]
  },
  {
   "cell_type": "markdown",
   "metadata": {},
   "source": [
    "# Circular Linked lists"
   ]
  },
  {
   "cell_type": "raw",
   "metadata": {},
   "source": [
    "The last node's next pointer is the root node\n",
    "Funtion: add() will add new node as the second node (root's next node)"
   ]
  },
  {
   "cell_type": "code",
   "execution_count": 15,
   "metadata": {},
   "outputs": [],
   "source": [
    "class Node():\n",
    "    \n",
    "    def __init__(self, d, n=None, p=None):\n",
    "        self.data = d\n",
    "        self.next_node = n\n",
    "        self.prev_node = p\n",
    "        \n",
    "    def __str__(self):\n",
    "        return ('(' + str(self.data) + ')')"
   ]
  },
  {
   "cell_type": "code",
   "execution_count": 16,
   "metadata": {},
   "outputs": [],
   "source": [
    "class CircularLinkedList():\n",
    "    \n",
    "    def __init__(self, r=None):\n",
    "        self.root = r\n",
    "        self.size = 0\n",
    "        \n",
    "    def add(self, d):\n",
    "        if self.size == 0:\n",
    "            self.root = Node(d)\n",
    "            self.root.next_node = self.root\n",
    "        else:\n",
    "            new_node = Node(d, self.root.next_node) #only adding next node info\n",
    "            self.root.next_node = new_node\n",
    "        self.size += 1\n",
    "        \n",
    "    def find(self, d):\n",
    "        this_node = self.root\n",
    "        while this_node is not None:\n",
    "            if this_node.data == d:\n",
    "                return d\n",
    "            elif this_node.next_node == self.root:\n",
    "                return False\n",
    "            this_node = this_node.next_node\n",
    "    \n",
    "    def remove(self, d):\n",
    "        this_node = self.root\n",
    "        prev_node = None\n",
    "        \n",
    "        while True:\n",
    "            if this_node.data == d: #found\n",
    "                if prev_node is not None: # data is in non-root\n",
    "                    prev_node.next_node = this_node.next_node\n",
    "                else: # data is in root node\n",
    "                    while this_node.next_node != self.root: # finding the last node\n",
    "                        this_node = this_node.next_node\n",
    "                    this_node.next_node = self.root.next_node #change the pointer of the last node\n",
    "                    self.root = self.root.next_node #make the second node as the root\n",
    "                self.size -= 1\n",
    "                return True # data removed\n",
    "            elif this_node.next_node == self.root:\n",
    "                return False\n",
    "            prev_node = this_node\n",
    "            this_node = this_node.next_node\n",
    "         \n",
    "    def print_list(self):\n",
    "        if self.root is None:\n",
    "            return\n",
    "        this_node = self.root\n",
    "        print(this_node, end='->')\n",
    "        while this_node.next_node != self.root:\n",
    "            this_node = this_node.next_node\n",
    "            print(this_node, end='->')\n",
    "        print()"
   ]
  },
  {
   "cell_type": "code",
   "execution_count": 17,
   "metadata": {},
   "outputs": [
    {
     "name": "stdout",
     "output_type": "stream",
     "text": [
      "size=5\n",
      "8\n",
      "False\n",
      "(5)->(9)->(8)->(3)->(7)->\n",
      "(5)->(9)->(8)->(3)->(7)->(5)->(9)->(8)->(3)->"
     ]
    }
   ],
   "source": [
    "# test code\n",
    "cll = CircularLinkedList()\n",
    "for i in [5, 7, 3, 8, 9]:\n",
    "    cll.add(i)\n",
    "    \n",
    "print('size='+str(cll.size))\n",
    "print(cll.find(8))\n",
    "print(cll.find(12))\n",
    "\n",
    "cll.print_list()\n",
    "\n",
    "my_node = cll.root\n",
    "print(my_node, end='->')\n",
    "for i in range(8):\n",
    "    my_node = my_node.next_node\n",
    "    print(my_node, end='->')"
   ]
  },
  {
   "cell_type": "markdown",
   "metadata": {},
   "source": [
    "# Doubly Linked List"
   ]
  },
  {
   "cell_type": "raw",
   "metadata": {},
   "source": [
    "has prev and next pointer\n",
    "advantage: can iterate the list in either direction, can delete a node without iterating through the list (if given a pointer to the node)"
   ]
  },
  {
   "cell_type": "code",
   "execution_count": 18,
   "metadata": {},
   "outputs": [],
   "source": [
    "class Node():\n",
    "    \n",
    "    def __init__(self, d, n=None, p=None):\n",
    "        self.data = d\n",
    "        self.next_node = n\n",
    "        self.prev_node = p\n",
    "        \n",
    "    def __str__(self):\n",
    "        return ('(' + str(self.data) + ')')"
   ]
  },
  {
   "cell_type": "code",
   "execution_count": 19,
   "metadata": {},
   "outputs": [],
   "source": [
    "class DoublyLinkedList():\n",
    "    \n",
    "    def __init__(self, r=None):\n",
    "        self.root = r\n",
    "        self.last = r\n",
    "        self.size = 0\n",
    "        \n",
    "    def add(self, d):\n",
    "        if self.size == 0:\n",
    "            self.root = Node(d)\n",
    "            self.last = self.root\n",
    "        else:\n",
    "            new_node = Node(d, self.root) #only adding next node info\n",
    "            self.root.prev_node = new_node\n",
    "            self.root = new_node\n",
    "        self.size += 1\n",
    "        \n",
    "    def find(self, d):\n",
    "        this_node = self.root\n",
    "        while this_node is not None:\n",
    "            if this_node.data == d:\n",
    "                return d\n",
    "            elif this_node.next_node == None:\n",
    "                return False\n",
    "            this_node = this_node.next_node\n",
    "    \n",
    "    def remove(self, d):\n",
    "        this_node = self.root\n",
    "        \n",
    "        while this_node is not None:\n",
    "            if this_node.data == d: #found\n",
    "                if this_node.prev_node is not None: #not a root node\n",
    "                    if this_node.next_node is not None: # delete a middle node\n",
    "                        this_node.prev_node.next_node = this_node.next_node # skipping the middle node\n",
    "                        this_node.next_node.prev_node = this_node.prev_node # skipping the middle node\n",
    "                    else: # delete last node\n",
    "                        this_node.prev_node.next_node = None\n",
    "                        self.last = this_node.prev_node\n",
    "                else: # delete root node\n",
    "                    self.root = this_node.next_node\n",
    "                    this_node.next_node.prev_node = self.root\n",
    "                self.size -= 1\n",
    "                return True # data removed\n",
    "            else:\n",
    "                this_node = this_node.next_node\n",
    "        return False\n",
    "         \n",
    "    def print_list(self):\n",
    "        if self.root is None:\n",
    "            return\n",
    "        this_node = self.root\n",
    "        print(this_node, end='->')\n",
    "        while this_node.next_node is not None:\n",
    "            this_node = this_node.next_node\n",
    "            print(this_node, end='->')\n",
    "        print()"
   ]
  },
  {
   "cell_type": "code",
   "execution_count": 20,
   "metadata": {},
   "outputs": [
    {
     "name": "stdout",
     "output_type": "stream",
     "text": [
      "size=5\n",
      "(9)->(8)->(3)->(9)->(5)->\n",
      "size=4\n",
      "(9)->(3)->(9)->(5)->\n",
      "False\n",
      "False\n",
      "(22)->(21)->(9)->(3)->(9)->\n",
      "(3)\n"
     ]
    }
   ],
   "source": [
    "# test code\n",
    "dll = DoublyLinkedList()\n",
    "for i in [5, 9, 3, 8, 9]:\n",
    "    dll.add(i)\n",
    "    \n",
    "print('size='+str(dll.size))\n",
    "dll.print_list()\n",
    "dll.remove(8)\n",
    "print('size='+str(dll.size))\n",
    "dll.print_list()\n",
    "\n",
    "print(dll.remove(15))\n",
    "print(dll.find(15))\n",
    "dll.add(21)\n",
    "dll.add(22)\n",
    "dll.remove(5)\n",
    "dll.print_list()\n",
    "print(dll.last.prev_node)"
   ]
  },
  {
   "cell_type": "markdown",
   "metadata": {},
   "source": [
    "# Binary Trees"
   ]
  },
  {
   "cell_type": "raw",
   "metadata": {},
   "source": [
    "Nodes and Edges\n",
    "Parent node has maximum 2 children nodes\n",
    "Top node is root, bottom nodes are leaf\n",
    "Ancestors, descendants, subtree"
   ]
  },
  {
   "cell_type": "raw",
   "metadata": {},
   "source": [
    "Binary Search Tree (BST): each node is greater than every node in its left subtree, and each node is less than every node in its right subtree\n",
    "Time complexity: O(log2 n), because each search will halve the tree\n",
    "Function: insert, find, delete, get_size, traversal\n",
    "Insert: start at root, always insert as a leaf at the end, compare one by one, then move process to left or right child at each comparison\n",
    "Delete: quite complex\n",
    "Get_size: size = 1 + size(left subtree) + size(right subtree)\n",
    "Preorder traversal : visit root before visiting the root's subtree\n",
    "Inorder traversal : visit root between visiting the root's subtree. Gives values in sorted order"
   ]
  },
  {
   "cell_type": "code",
   "execution_count": 21,
   "metadata": {},
   "outputs": [],
   "source": [
    "class Tree():\n",
    "    \n",
    "    def __init__(self, data, left=None, right=None):\n",
    "        self.data = data\n",
    "        self.left = left\n",
    "        self.right = right\n",
    "        \n",
    "    def insert(self, data):\n",
    "        if self.data == data:\n",
    "            return False # duplicate value\n",
    "        elif self.data > data: # new data is less than the node \n",
    "            if self.left is not None:\n",
    "                return self.left.insert(data)\n",
    "            else: # finding the right position to insert new data\n",
    "                self.left = Tree(data) # a new node with no left and right subtree\n",
    "                return True\n",
    "        else:  # new data is greater than the node \n",
    "            if self.right is not None:\n",
    "                return self.right.insert(data)\n",
    "            else: # finding the right position to insert new data\n",
    "                self.right = Tree(data) # a new node with no left and right subtree\n",
    "                return True\n",
    "    \n",
    "    def find(self, data):\n",
    "        if self.data == data:\n",
    "            return data\n",
    "        elif self.data > data:\n",
    "            if self.left is None:\n",
    "                return False\n",
    "            else:\n",
    "                return self.left.find(data)\n",
    "        elif self.data < data:\n",
    "            if self.right is None:\n",
    "                return False\n",
    "            else: return self.right.find(data)\n",
    "            \n",
    "    def get_size(self):\n",
    "        if self.left is not None and self.right is not None:\n",
    "            return 1 + self.left.get_size() + self.right.get_size()\n",
    "        elif self.left: # if no right subtree \n",
    "            return 1 + self.left.get_size()\n",
    "        elif self.right: # if no left subtree \n",
    "            return 1 + self.right.get_size()\n",
    "        else:\n",
    "            return 1\n",
    "        \n",
    "    def preorder(self):\n",
    "        if self is not None:\n",
    "            print(self.data, end=' ')\n",
    "            if self.left is not None:\n",
    "                self.left.preorder()\n",
    "            if self.right:\n",
    "                self.right.preorder()\n",
    "    \n",
    "    def inorder(self):\n",
    "        if self is not None:\n",
    "            if self.left is not None:\n",
    "                self.left.inorder()\n",
    "            print(self.data, end=' ')\n",
    "            if self.right is not None:\n",
    "                self.right.inorder()"
   ]
  },
  {
   "cell_type": "code",
   "execution_count": 22,
   "metadata": {},
   "outputs": [
    {
     "name": "stdout",
     "output_type": "stream",
     "text": [
      "False 1 2 3 4 False 6 7 False 9 10 11 12 13 14 15 \n",
      " 13\n",
      "7 2 1 3 6 4 9 15 10 12 11 13 14 \n",
      "1 2 3 4 6 7 9 10 11 12 13 14 15 \n"
     ]
    }
   ],
   "source": [
    "# Test code\n",
    "tree = Tree(7)\n",
    "tree.insert(9)\n",
    "for i in [15, 10, 2, 12, 3, 1, 13, 6, 11, 4, 14, 9]:\n",
    "    tree.insert(i)\n",
    "for i in range(16):\n",
    "    print(tree.find(i), end=' ')\n",
    "print('\\n', tree.get_size())\n",
    "\n",
    "tree.preorder()\n",
    "print()\n",
    "tree.inorder()\n",
    "print()"
   ]
  },
  {
   "cell_type": "markdown",
   "metadata": {},
   "source": [
    "# Graphs"
   ]
  },
  {
   "cell_type": "raw",
   "metadata": {},
   "source": [
    "Nodes/Vertex and Edges, adjacency matrix"
   ]
  },
  {
   "cell_type": "markdown",
   "metadata": {},
   "source": [
    "Graph implementation using adjacency list"
   ]
  },
  {
   "cell_type": "code",
   "execution_count": 23,
   "metadata": {},
   "outputs": [],
   "source": [
    "# Graph implementation using adjacency list\n",
    "\n",
    "class Vertex:\n",
    "    \n",
    "    def __init__(self, n):\n",
    "        self.name = n\n",
    "        self.neighbors = set() # neighbor is collected in set, no duplicate\n",
    "    \n",
    "    def add_neighbor(self, v):\n",
    "        self.neighbors.add(v) # set's add method \n",
    "        \n",
    "class Graph:\n",
    "    \n",
    "    vertices = {} # dictionary, key=vertex's name, value=Vertex object\n",
    "    \n",
    "    def add_vertex(self, vertex): # vertex = vertex's name\n",
    "        if isinstance(vertex, Vertex) and vertex.name not in self.vertices:\n",
    "            self.vertices[vertex.name] = vertex\n",
    "            return True\n",
    "        else:\n",
    "            return False\n",
    "    \n",
    "    def add_edge(self, u, v):\n",
    "        if u in self.vertices and v in self.vertices:\n",
    "            self.vertices[u].add_neighbor(v)\n",
    "            self.vertices[v].add_neighbor(u)\n",
    "            return True\n",
    "        else:\n",
    "            return False\n",
    "    \n",
    "    def print_graph(self):\n",
    "        for key in sorted(list(self.vertices.keys())):\n",
    "            print(key, sorted(list(self.vertices[key].neighbors)))"
   ]
  },
  {
   "cell_type": "code",
   "execution_count": 24,
   "metadata": {},
   "outputs": [],
   "source": [
    "# test code\n",
    "\n",
    "g = Graph()\n",
    "a = Vertex('A') # add vertex 'A'\n",
    "g.add_vertex(a)\n",
    "g.add_vertex(Vertex('B')) # add vertex 'B'\n",
    "for i in range(ord('A'), ord('K')): # add vertex char 'A' to 'K'\n",
    "    g.add_vertex(Vertex(chr(i)))"
   ]
  },
  {
   "cell_type": "code",
   "execution_count": 25,
   "metadata": {},
   "outputs": [
    {
     "name": "stdout",
     "output_type": "stream",
     "text": [
      "A ['B', 'E']\n",
      "B ['A', 'F']\n",
      "C ['G']\n",
      "D ['E', 'H']\n",
      "E ['A', 'D', 'H']\n",
      "F ['B', 'G', 'I', 'J']\n",
      "G ['C', 'F', 'J']\n",
      "H ['D', 'E']\n",
      "I ['F']\n",
      "J ['F', 'G']\n"
     ]
    }
   ],
   "source": [
    "edges = ['AB', 'AE', 'BF', 'CG', 'DE', 'DH', 'EH', 'FG', 'FI', 'FJ', 'GJ']\n",
    "for edge in edges:\n",
    "    g.add_edge(edge[0], edge[1])\n",
    "\n",
    "g.print_graph() "
   ]
  },
  {
   "cell_type": "markdown",
   "metadata": {},
   "source": [
    "Graph implementation using adjacency matrix"
   ]
  },
  {
   "cell_type": "code",
   "execution_count": 26,
   "metadata": {},
   "outputs": [],
   "source": [
    "# Graph implementation using adjacency matrix\n",
    "\n",
    "class Vertex:\n",
    "    \n",
    "    def __init__(self, n):\n",
    "        self.name = n\n",
    "\n",
    "class Graph:\n",
    "    \n",
    "    vertices = {}\n",
    "    edges = []\n",
    "    edge_indices = {}\n",
    "    \n",
    "    def add_vertex(self, vertex):\n",
    "        if isinstance(vertex, Vertex) and vertex.name not in self.vertices:\n",
    "            self.vertices[vertex.name] = vertex\n",
    "            # for loop appends a column of zeros to the edges matix\n",
    "            for row in self.edges:\n",
    "                row.append(0)\n",
    "            # append a row of zeros to the bottom of the edges matrix\n",
    "            self.edges.append([0]*(len(self.edges)+1))\n",
    "            self.edge_indices[vertex.name] = len(self.edge_indices)\n",
    "            return True\n",
    "        else:\n",
    "            return False\n",
    "    \n",
    "    def add_edge(self, u, v, weight=1):\n",
    "        if u in self.vertices and v in self.vertices:\n",
    "            self.edges[self.edge_indices[u]][self.edge_indices[v]] = weight\n",
    "            self.edges[self.edge_indices[v]][self.edge_indices[u]] = weight\n",
    "            return True\n",
    "        else:\n",
    "            return False\n",
    "    \n",
    "    def print_graph(self):\n",
    "        for v, i in sorted(self.edge_indices.items()):\n",
    "            print(v + ' ', end='')\n",
    "            for j in range(len(self.edges)):\n",
    "                print(self.edges[i][j], end=' ')\n",
    "            print(' ')"
   ]
  },
  {
   "cell_type": "code",
   "execution_count": 27,
   "metadata": {},
   "outputs": [],
   "source": [
    "# test code\n",
    "\n",
    "g = Graph()\n",
    "a = Vertex('A') # add vertex 'A'\n",
    "g.add_vertex(a)\n",
    "g.add_vertex(Vertex('B')) # add vertex 'B'\n",
    "for i in range(ord('A'), ord('K')): # add vertex char 'A' to 'K'\n",
    "    g.add_vertex(Vertex(chr(i)))"
   ]
  },
  {
   "cell_type": "code",
   "execution_count": 28,
   "metadata": {},
   "outputs": [
    {
     "name": "stdout",
     "output_type": "stream",
     "text": [
      "A 0 1 0 0 1 0 0 0 0 0  \n",
      "B 1 0 0 0 0 1 0 0 0 0  \n",
      "C 0 0 0 0 0 0 1 0 0 0  \n",
      "D 0 0 0 0 1 0 0 1 0 0  \n",
      "E 1 0 0 1 0 0 0 1 0 0  \n",
      "F 0 1 0 0 0 0 1 0 1 1  \n",
      "G 0 0 1 0 0 1 0 0 0 1  \n",
      "H 0 0 0 1 1 0 0 0 0 0  \n",
      "I 0 0 0 0 0 1 0 0 0 0  \n",
      "J 0 0 0 0 0 1 1 0 0 0  \n"
     ]
    }
   ],
   "source": [
    "edges = ['AB', 'AE', 'BF', 'CG', 'DE', 'DH', 'EH', 'FG', 'FI', 'FJ', 'GJ']\n",
    "for edge in edges:\n",
    "    g.add_edge(edge[0], edge[1])\n",
    "\n",
    "g.print_graph() "
   ]
  },
  {
   "cell_type": "markdown",
   "metadata": {},
   "source": [
    "Breadth First Search using Graph with Adjacency List"
   ]
  },
  {
   "cell_type": "code",
   "execution_count": 4,
   "metadata": {},
   "outputs": [],
   "source": [
    "# Graph implementation using adjacency list\n",
    "\n",
    "class Vertex:\n",
    "    \n",
    "    def __init__(self, n):\n",
    "        self.name = n\n",
    "        self.neighbors = list() # neighbor is collected in list\n",
    "        self.distance = 9999 # initialize with high number\n",
    "        self.color = 'black' # black is not visited, red is visited\n",
    "    \n",
    "    def add_neighbor(self, v):\n",
    "        if v not in self.neighbors:\n",
    "            self.neighbors.append(v)\n",
    "            self.neighbors.sort()\n",
    "        \n",
    "class Graph:\n",
    "    \n",
    "    vertices = {} # dictionary, key=vertex's name, value=Vertex object\n",
    "    \n",
    "    def add_vertex(self, vertex): # vertex = vertex's name\n",
    "        if isinstance(vertex, Vertex) and vertex.name not in self.vertices:\n",
    "            self.vertices[vertex.name] = vertex\n",
    "            return True\n",
    "        else:\n",
    "            return False\n",
    "    \n",
    "    def add_edge(self, u, v):\n",
    "        if u in self.vertices and v in self.vertices:\n",
    "            self.vertices[u].add_neighbor(v)\n",
    "            self.vertices[v].add_neighbor(u)\n",
    "            return True\n",
    "        else:\n",
    "            return False\n",
    "    \n",
    "    def print_graph(self):\n",
    "        for key in sorted(list(self.vertices.keys())):\n",
    "            print(key + str(self.vertices[key].neighbors) + ' ' + str(self.vertices[key].distance))\n",
    "    \n",
    "    def bfs(self, vert):\n",
    "        q = list()\n",
    "        vert.distance = 0\n",
    "        vert.color = 'red'\n",
    "        for v in vert.neighbors:\n",
    "            self.vertices[v].distance = vert.distance + 1\n",
    "            q.append(v)\n",
    "        \n",
    "        while len(q) > 0:\n",
    "            u = q.pop(0)\n",
    "            node_u = self.vertices[u]\n",
    "            node_u.color = 'red'\n",
    "            \n",
    "            for v in node_u.neighbors:\n",
    "                node_v = self.vertices[v]\n",
    "                if node_v.color == 'black':\n",
    "                    q.append(v)\n",
    "                    if node_v.distance > node_u.distance + 1:\n",
    "                        node_v.distance = node_u.distance + 1"
   ]
  },
  {
   "cell_type": "code",
   "execution_count": 6,
   "metadata": {},
   "outputs": [
    {
     "name": "stdout",
     "output_type": "stream",
     "text": [
      "A['B', 'E'] 0\n",
      "B['A', 'F'] 1\n",
      "C['G'] 4\n",
      "D['E', 'H'] 2\n",
      "E['A', 'D', 'H'] 1\n",
      "F['B', 'G', 'I', 'J'] 2\n",
      "G['C', 'F', 'J'] 3\n",
      "H['D', 'E', 'I'] 2\n",
      "I['F', 'H'] 3\n",
      "J['F', 'G'] 3\n"
     ]
    }
   ],
   "source": [
    "# test code\n",
    "\n",
    "g = Graph()\n",
    "a = Vertex('A') # add vertex 'A'\n",
    "g.add_vertex(a)\n",
    "g.add_vertex(Vertex('B')) # add vertex 'B'\n",
    "for i in range(ord('A'), ord('K')): # add vertex char 'A' to 'K'\n",
    "    g.add_vertex(Vertex(chr(i)))\n",
    "    \n",
    "edges = ['AB', 'AE', 'BF', 'CG', 'DE', 'DH', 'EH', 'FG', 'FI', 'FJ', 'GJ', 'HI']\n",
    "for edge in edges:\n",
    "    g.add_edge(edge[0], edge[1])\n",
    "\n",
    "g.bfs(a)\n",
    "g.print_graph() "
   ]
  },
  {
   "cell_type": "markdown",
   "metadata": {},
   "source": [
    "Depth First Search using Graph with Adjacency List"
   ]
  },
  {
   "cell_type": "code",
   "execution_count": 8,
   "metadata": {},
   "outputs": [],
   "source": [
    "# Graph implementation using adjacency list\n",
    "\n",
    "class Vertex:\n",
    "    \n",
    "    def __init__(self, n):\n",
    "        self.name = n\n",
    "        self.neighbors = list() # neighbor is collected in list\n",
    "        self.discovery = 0\n",
    "        self.finish = 0\n",
    "        self.color = 'black' # black is not visited, red is visited\n",
    "    \n",
    "    def add_neighbor(self, v):\n",
    "        nset = set(self.neighbors)\n",
    "        if v not in nset:\n",
    "            self.neighbors.append(v)\n",
    "            self.neighbors.sort()\n",
    "        \n",
    "class Graph:\n",
    "    \n",
    "    vertices = {} # dictionary, key=vertex's name, value=Vertex object\n",
    "    time = 0\n",
    "    \n",
    "    def add_vertex(self, vertex): # vertex = vertex's name\n",
    "        if isinstance(vertex, Vertex) and vertex.name not in self.vertices:\n",
    "            self.vertices[vertex.name] = vertex\n",
    "            return True\n",
    "        else:\n",
    "            return False\n",
    "    \n",
    "    def add_edge(self, u, v):\n",
    "        if u in self.vertices and v in self.vertices:\n",
    "            self.vertices[u].add_neighbor(v)\n",
    "            self.vertices[v].add_neighbor(u)\n",
    "            return True\n",
    "        else:\n",
    "            return False\n",
    "    \n",
    "    def print_graph(self):\n",
    "        for key in sorted(list(self.vertices.keys())):\n",
    "            print(key + str(self.vertices[key].neighbors) + ' ' + str(self.vertices[key].discovery) + \"/\" + str(self.vertices[key].finish))\n",
    "\n",
    "    def _dfs(self, vertex):\n",
    "        global time\n",
    "        vertex.color = 'red'\n",
    "        vertex.discovery = time\n",
    "        time += 1\n",
    "        for v in vertex.neighbors:\n",
    "            if self.vertices[v].color == 'black':\n",
    "                self._dfs(self.vertices[v])\n",
    "        vertex.color = 'blue'\n",
    "        vertex.finish = time\n",
    "        time += 1\n",
    "\n",
    "    def dfs(self, vertex):\n",
    "        global time\n",
    "        time = 1\n",
    "        self._dfs(vertex)"
   ]
  },
  {
   "cell_type": "code",
   "execution_count": 9,
   "metadata": {},
   "outputs": [
    {
     "name": "stdout",
     "output_type": "stream",
     "text": [
      "A['B', 'E'] 1/20\n",
      "B['A', 'F'] 2/19\n",
      "C['G'] 5/6\n",
      "D['E', 'H'] 12/15\n",
      "E['A', 'D', 'H'] 13/14\n",
      "F['B', 'G', 'I', 'J'] 3/18\n",
      "G['C', 'F', 'J'] 4/9\n",
      "H['D', 'E', 'I'] 11/16\n",
      "I['F', 'H'] 10/17\n",
      "J['F', 'G'] 7/8\n"
     ]
    }
   ],
   "source": [
    "g = Graph()\n",
    "# print(str(len(g.vertices)))\n",
    "a = Vertex('A')\n",
    "g.add_vertex(a)\n",
    "g.add_vertex(Vertex('B'))\n",
    "for i in range(ord('A'), ord('K')):\n",
    "    g.add_vertex(Vertex(chr(i)))\n",
    "\n",
    "edges = ['AB', 'AE', 'BF', 'CG', 'DE', 'DH', 'EH', 'FG', 'FI', 'FJ', 'GJ', 'HI']\n",
    "for edge in edges:\n",
    "    g.add_edge(edge[:1], edge[1:])\n",
    "\n",
    "g.dfs(a)\n",
    "g.print_graph()"
   ]
  }
 ],
 "metadata": {
  "kernelspec": {
   "display_name": "Python 3",
   "language": "python",
   "name": "python3"
  },
  "language_info": {
   "codemirror_mode": {
    "name": "ipython",
    "version": 3
   },
   "file_extension": ".py",
   "mimetype": "text/x-python",
   "name": "python",
   "nbconvert_exporter": "python",
   "pygments_lexer": "ipython3",
   "version": "3.8.3"
  }
 },
 "nbformat": 4,
 "nbformat_minor": 4
}
