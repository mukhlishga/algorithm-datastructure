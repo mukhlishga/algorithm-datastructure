{
 "cells": [
  {
   "cell_type": "markdown",
   "metadata": {},
   "source": [
    "OOP enables programmers to think of software development as if they are working with real-life entities.\n",
    "Keywords: class, property, method, instance\n",
    "\n",
    "4 principles of OOP:\n",
    "\n",
    "1. Encapsulation (object is like a capsule, it is private) --> reduce complexity and increase reusability\n",
    "Each object keeps its state (property) private inside a class. Other objects don’t have direct access to this state. \n",
    "Instead, they can only call public functions (methods). So we have to use an object's method to change its property.\n",
    "\n",
    "2. Abstraction (interface of an object, with which it communicates with outside world) --> reduce complexity and isolate impact of changes\n",
    "Think of it as a small set of public interface (methods) which any other class can call without “knowing” how they work. The process of selecting data from a larger pool to show only the relevant details to the object. Applying abstraction means that each object should only expose a high-level mechanism for using it.\n",
    "\n",
    "3. Inheritance (inherit class) --> eliminate redundant code\n",
    "The ability of one object to acquire some/all properties (property and method) of another object. For example, a child inherits the traits of his/her parents. The child class reuses all fields and methods of the parent class (common part) and can implement its own (unique part). For example, fruit class is the parent and apple class is the child.\n",
    "\n",
    "4. Polymorphism ('many shapes') --> refactor ugly switch/case statement\n",
    "A way to use a class exactly like its parent so there is no confusion with mixing types (e.g. in a list). This typically happens by defining a parent interface (method) to be reused. Then, each child class implements its own version of these methods.\n",
    "Lets say there is a parent class: ParentClass with methodA(). There are 3 child classes: Child1Class, Child2Class, Child3Class all with its own unique methodA() modification. Each child class has 1 instance: Child1Instance, Child2Instance, Child3Instance.\n",
    "if a list of different child class's instances = [Child1Instance, Child2Instance, Child3Instance] and then a map function calls a the methodA() for each element, then the methodA() will run uniquely in every element based on its method in childXClass.\n",
    "For example: parent class: Bentuk with method hitungLuas(). child classes: Lingkaran, Persegi, Segitiga --> each will have unique hitungLuas() method"
   ]
  },
  {
   "cell_type": "markdown",
   "metadata": {},
   "source": [
    "SOLID design principle\n",
    "\n",
    "1. Single-responsibility principle:\n",
    "\"A class should have only one reason to change.\" In other words, every class should have only one responsibility.\n",
    "\n",
    "2. Open–closed principle:\n",
    "\"Software entities should be open for extension, but closed for modification.\"\n",
    "\n",
    "3. Liskov substitution principle:\n",
    "\"Functions that use pointers or references to base classes must be able to use objects of derived classes without knowing it.\"\n",
    "\n",
    "4. Interface segregation principle:\n",
    "\"Many client-specific interfaces are better than one general-purpose interface.\"\n",
    "\n",
    "5. Dependency inversion principle:\n",
    "\"Depend upon class' abstractions, not concrete intances.\""
   ]
  },
  {
   "cell_type": "code",
   "execution_count": null,
   "metadata": {},
   "outputs": [],
   "source": [
    "DRY principle\n",
    "\n",
    "Dont \n",
    "Repeat\n",
    "Yourself"
   ]
  },
  {
   "cell_type": "code",
   "execution_count": null,
   "metadata": {},
   "outputs": [],
   "source": [
    "KISS principle\n",
    "\n",
    "Keep\n",
    "It\n",
    "Simple\n",
    "Silly"
   ]
  }
 ],
 "metadata": {
  "kernelspec": {
   "display_name": "Python 3",
   "language": "python",
   "name": "python3"
  },
  "language_info": {
   "codemirror_mode": {
    "name": "ipython",
    "version": 3
   },
   "file_extension": ".py",
   "mimetype": "text/x-python",
   "name": "python",
   "nbconvert_exporter": "python",
   "pygments_lexer": "ipython3",
   "version": "3.8.3"
  }
 },
 "nbformat": 4,
 "nbformat_minor": 4
}
